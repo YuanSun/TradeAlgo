{
 "cells": [
  {
   "cell_type": "markdown",
   "metadata": {},
   "source": [
    "# Data sources\n",
    "In this section we will discuss two different ways to get financial data with Python\n",
    "- pandas-datareader\n",
    "- Quandl"
   ]
  },
  {
   "cell_type": "markdown",
   "metadata": {},
   "source": [
    "## Pandas-datareader\n",
    "Pandas-datareader is a separate package that allows you to connect to Google's Stock API (as well as others) and grab securities data and read it in as a DataFrame!\n",
    "\n",
    "## Quandl\n",
    "Quandl is a company that offers a robust python API that allows you to grab data from a variety of sources (from free, some paid).\n",
    "Quandl is free to use, you need a free API key to do more than 50 free queries a day.\n",
    "\n",
    "- Sometimes these libraries have issues if you have a firewall or are based in a certain geographical region."
   ]
  },
  {
   "cell_type": "markdown",
   "metadata": {},
   "source": [
    "## Note on Pandas Datareader\n",
    "Yahoo and google have changed their APIs and are sometimes unstable. Use the code \"iex\" or \"morningstar\" instead.\n",
    "\n",
    "For the most up to date string codes, please refer to :\n",
    "\n",
    "https://pandas-datareader.readthedocs.io/"
   ]
  },
  {
   "cell_type": "markdown",
   "metadata": {},
   "source": [
    "# Use Quandl"
   ]
  },
  {
   "cell_type": "code",
   "execution_count": 2,
   "metadata": {},
   "outputs": [],
   "source": [
    "import quandl"
   ]
  },
  {
   "cell_type": "code",
   "execution_count": 16,
   "metadata": {},
   "outputs": [],
   "source": [
    "mydata = quandl.get('EIA/PET_RWTC_D')"
   ]
  },
  {
   "cell_type": "code",
   "execution_count": 17,
   "metadata": {},
   "outputs": [],
   "source": [
    "import matplotlib.pyplot as plt\n",
    "%matplotlib inline"
   ]
  },
  {
   "cell_type": "code",
   "execution_count": 20,
   "metadata": {},
   "outputs": [],
   "source": [
    "mtl_home_turnover = quandl.get(\"ZILLOW/C9825_TURNAH\", authtoken=\"EiyXGe9hyXHJKb5yDtyU\")"
   ]
  },
  {
   "cell_type": "code",
   "execution_count": 21,
   "metadata": {},
   "outputs": [
    {
     "data": {
      "text/html": [
       "<div>\n",
       "<style scoped>\n",
       "    .dataframe tbody tr th:only-of-type {\n",
       "        vertical-align: middle;\n",
       "    }\n",
       "\n",
       "    .dataframe tbody tr th {\n",
       "        vertical-align: top;\n",
       "    }\n",
       "\n",
       "    .dataframe thead th {\n",
       "        text-align: right;\n",
       "    }\n",
       "</style>\n",
       "<table border=\"1\" class=\"dataframe\">\n",
       "  <thead>\n",
       "    <tr style=\"text-align: right;\">\n",
       "      <th></th>\n",
       "      <th>Value</th>\n",
       "    </tr>\n",
       "    <tr>\n",
       "      <th>Date</th>\n",
       "      <th></th>\n",
       "    </tr>\n",
       "  </thead>\n",
       "  <tbody>\n",
       "    <tr>\n",
       "      <th>2012-04-30</th>\n",
       "      <td>0.9662</td>\n",
       "    </tr>\n",
       "    <tr>\n",
       "      <th>2012-05-31</th>\n",
       "      <td>0.9709</td>\n",
       "    </tr>\n",
       "    <tr>\n",
       "      <th>2012-06-30</th>\n",
       "      <td>0.9709</td>\n",
       "    </tr>\n",
       "    <tr>\n",
       "      <th>2012-07-31</th>\n",
       "      <td>1.9417</td>\n",
       "    </tr>\n",
       "    <tr>\n",
       "      <th>2012-08-31</th>\n",
       "      <td>1.9417</td>\n",
       "    </tr>\n",
       "  </tbody>\n",
       "</table>\n",
       "</div>"
      ],
      "text/plain": [
       "             Value\n",
       "Date              \n",
       "2012-04-30  0.9662\n",
       "2012-05-31  0.9709\n",
       "2012-06-30  0.9709\n",
       "2012-07-31  1.9417\n",
       "2012-08-31  1.9417"
      ]
     },
     "execution_count": 21,
     "metadata": {},
     "output_type": "execute_result"
    }
   ],
   "source": [
    "mtl_home_turnover.head()"
   ]
  },
  {
   "cell_type": "code",
   "execution_count": 22,
   "metadata": {},
   "outputs": [],
   "source": [
    "aapl=quandl.get('WIKI/AAPL')"
   ]
  },
  {
   "cell_type": "code",
   "execution_count": 25,
   "metadata": {},
   "outputs": [
    {
     "data": {
      "text/plain": [
       "Date\n",
       "1980-12-12     28.750\n",
       "1980-12-15     27.380\n",
       "1980-12-16     25.370\n",
       "1980-12-17     25.870\n",
       "1980-12-18     26.630\n",
       "1980-12-19     28.250\n",
       "1980-12-22     29.630\n",
       "1980-12-23     30.880\n",
       "1980-12-24     32.500\n",
       "1980-12-26     35.500\n",
       "1980-12-29     36.000\n",
       "1980-12-30     35.250\n",
       "1980-12-31     34.250\n",
       "1981-01-02     34.500\n",
       "1981-01-05     33.870\n",
       "1981-01-06     32.370\n",
       "1981-01-07     31.000\n",
       "1981-01-08     30.370\n",
       "1981-01-09     31.880\n",
       "1981-01-12     31.880\n",
       "1981-01-13     30.630\n",
       "1981-01-14     30.630\n",
       "1981-01-15     31.250\n",
       "1981-01-16     31.120\n",
       "1981-01-19     32.870\n",
       "1981-01-20     32.000\n",
       "1981-01-21     32.500\n",
       "1981-01-22     32.870\n",
       "1981-01-23     32.870\n",
       "1981-01-26     32.370\n",
       "               ...   \n",
       "2018-02-13    161.950\n",
       "2018-02-14    163.045\n",
       "2018-02-15    169.790\n",
       "2018-02-16    172.360\n",
       "2018-02-20    172.050\n",
       "2018-02-21    172.830\n",
       "2018-02-22    171.800\n",
       "2018-02-23    173.670\n",
       "2018-02-26    176.350\n",
       "2018-02-27    179.100\n",
       "2018-02-28    179.260\n",
       "2018-03-01    178.540\n",
       "2018-03-02    172.800\n",
       "2018-03-05    175.210\n",
       "2018-03-06    177.910\n",
       "2018-03-07    174.940\n",
       "2018-03-08    175.480\n",
       "2018-03-09    177.960\n",
       "2018-03-12    180.290\n",
       "2018-03-13    182.590\n",
       "2018-03-14    180.320\n",
       "2018-03-15    178.500\n",
       "2018-03-16    178.650\n",
       "2018-03-19    177.320\n",
       "2018-03-20    175.240\n",
       "2018-03-21    175.040\n",
       "2018-03-22    170.000\n",
       "2018-03-23    168.390\n",
       "2018-03-26    168.070\n",
       "2018-03-27    173.680\n",
       "Name: Open, Length: 9400, dtype: float64"
      ]
     },
     "execution_count": 25,
     "metadata": {},
     "output_type": "execute_result"
    }
   ],
   "source": [
    "aapl['Open']"
   ]
  },
  {
   "cell_type": "code",
   "execution_count": null,
   "metadata": {},
   "outputs": [],
   "source": []
  }
 ],
 "metadata": {
  "kernelspec": {
   "display_name": "Python [default]",
   "language": "python",
   "name": "python2"
  },
  "language_info": {
   "codemirror_mode": {
    "name": "ipython",
    "version": 2
   },
   "file_extension": ".py",
   "mimetype": "text/x-python",
   "name": "python",
   "nbconvert_exporter": "python",
   "pygments_lexer": "ipython2",
   "version": "2.7.15"
  }
 },
 "nbformat": 4,
 "nbformat_minor": 2
}
