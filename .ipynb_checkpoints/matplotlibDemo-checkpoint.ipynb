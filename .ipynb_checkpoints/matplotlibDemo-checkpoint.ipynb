{
 "cells": [
  {
   "cell_type": "markdown",
   "metadata": {
    "collapsed": true
   },
   "source": [
    "# Visualization\n",
    "- There are many libraries for visualization with Python, this will focus on Matplotlib and pandas' visualizations (built on top of matplotlib)\n",
    "- Other great libraries are seaborn, cufflinks, plotly, bokeh, vincent, etc\n",
    "- Have a lecture focusing on time series visualizations\n",
    "- The majority of all our plots will be static (non-interactive), but that is possible to create interactive plots.\n",
    "\n",
    "## Topics to cover:\n",
    "- Matplotlib\n",
    "- Pandas Visualization\n",
    "- Pandas Time Series Visualization"
   ]
  },
  {
   "cell_type": "markdown",
   "metadata": {},
   "source": [
    "# Matplotlib Basics\n",
    "- It is the most powerful and customizable visualizatino library for Python.\n",
    "- It was initially based off Matlab's plotting capabilies.\n",
    "- To get an idea of what is possible, go to http://matplotlib.org/gallery.html\n",
    "- Understanding its core principles will be very helpful later on with pandas."
   ]
  },
  {
   "cell_type": "code",
   "execution_count": null,
   "metadata": {},
   "outputs": [],
   "source": [
    "import matplotlib.pyplot as plt\n",
    "%matplotlib inline"
   ]
  }
 ],
 "metadata": {
  "kernelspec": {
   "display_name": "Python [default]",
   "language": "python",
   "name": "python2"
  },
  "language_info": {
   "codemirror_mode": {
    "name": "ipython",
    "version": 2
   },
   "file_extension": ".py",
   "mimetype": "text/x-python",
   "name": "python",
   "nbconvert_exporter": "python",
   "pygments_lexer": "ipython2",
   "version": "2.7.15"
  }
 },
 "nbformat": 4,
 "nbformat_minor": 1
}
