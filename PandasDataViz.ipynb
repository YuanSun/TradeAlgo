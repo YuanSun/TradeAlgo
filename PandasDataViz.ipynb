{
 "cells": [
  {
   "cell_type": "markdown",
   "metadata": {},
   "source": [
    "# Pandas data visualization"
   ]
  },
  {
   "cell_type": "code",
   "execution_count": 33,
   "metadata": {},
   "outputs": [],
   "source": [
    "import numpy as np\n",
    "import pandas as pd\n",
    "import seaborn as sns\n",
    "%matplotlib inline"
   ]
  },
  {
   "cell_type": "code",
   "execution_count": 35,
   "metadata": {},
   "outputs": [],
   "source": [
    "df1 = pd.read_csv('df1', index_col=0)"
   ]
  },
  {
   "cell_type": "code",
   "execution_count": 36,
   "metadata": {},
   "outputs": [
    {
     "data": {
      "text/html": [
       "<div>\n",
       "<style scoped>\n",
       "    .dataframe tbody tr th:only-of-type {\n",
       "        vertical-align: middle;\n",
       "    }\n",
       "\n",
       "    .dataframe tbody tr th {\n",
       "        vertical-align: top;\n",
       "    }\n",
       "\n",
       "    .dataframe thead th {\n",
       "        text-align: right;\n",
       "    }\n",
       "</style>\n",
       "<table border=\"1\" class=\"dataframe\">\n",
       "  <thead>\n",
       "    <tr style=\"text-align: right;\">\n",
       "      <th></th>\n",
       "      <th>A</th>\n",
       "      <th>B</th>\n",
       "      <th>C</th>\n",
       "      <th>D</th>\n",
       "    </tr>\n",
       "  </thead>\n",
       "  <tbody>\n",
       "    <tr>\n",
       "      <th>2000-01-01</th>\n",
       "      <td>1.339091</td>\n",
       "      <td>-0.163643</td>\n",
       "      <td>-0.646443</td>\n",
       "      <td>1.041233</td>\n",
       "    </tr>\n",
       "    <tr>\n",
       "      <th>2000-01-02</th>\n",
       "      <td>-0.774984</td>\n",
       "      <td>0.137034</td>\n",
       "      <td>-0.882716</td>\n",
       "      <td>-2.253382</td>\n",
       "    </tr>\n",
       "    <tr>\n",
       "      <th>2000-01-03</th>\n",
       "      <td>-0.921037</td>\n",
       "      <td>-0.482943</td>\n",
       "      <td>-0.417100</td>\n",
       "      <td>0.478638</td>\n",
       "    </tr>\n",
       "    <tr>\n",
       "      <th>2000-01-04</th>\n",
       "      <td>-1.738808</td>\n",
       "      <td>-0.072973</td>\n",
       "      <td>0.056517</td>\n",
       "      <td>0.015085</td>\n",
       "    </tr>\n",
       "    <tr>\n",
       "      <th>2000-01-05</th>\n",
       "      <td>-0.905980</td>\n",
       "      <td>1.778576</td>\n",
       "      <td>0.381918</td>\n",
       "      <td>0.291436</td>\n",
       "    </tr>\n",
       "  </tbody>\n",
       "</table>\n",
       "</div>"
      ],
      "text/plain": [
       "                   A         B         C         D\n",
       "2000-01-01  1.339091 -0.163643 -0.646443  1.041233\n",
       "2000-01-02 -0.774984  0.137034 -0.882716 -2.253382\n",
       "2000-01-03 -0.921037 -0.482943 -0.417100  0.478638\n",
       "2000-01-04 -1.738808 -0.072973  0.056517  0.015085\n",
       "2000-01-05 -0.905980  1.778576  0.381918  0.291436"
      ]
     },
     "execution_count": 36,
     "metadata": {},
     "output_type": "execute_result"
    }
   ],
   "source": [
    "df1.head()"
   ]
  },
  {
   "cell_type": "code",
   "execution_count": 37,
   "metadata": {},
   "outputs": [],
   "source": [
    "df2 = pd.read_csv('df2')"
   ]
  },
  {
   "cell_type": "code",
   "execution_count": 38,
   "metadata": {},
   "outputs": [
    {
     "data": {
      "text/html": [
       "<div>\n",
       "<style scoped>\n",
       "    .dataframe tbody tr th:only-of-type {\n",
       "        vertical-align: middle;\n",
       "    }\n",
       "\n",
       "    .dataframe tbody tr th {\n",
       "        vertical-align: top;\n",
       "    }\n",
       "\n",
       "    .dataframe thead th {\n",
       "        text-align: right;\n",
       "    }\n",
       "</style>\n",
       "<table border=\"1\" class=\"dataframe\">\n",
       "  <thead>\n",
       "    <tr style=\"text-align: right;\">\n",
       "      <th></th>\n",
       "      <th>a</th>\n",
       "      <th>b</th>\n",
       "      <th>c</th>\n",
       "      <th>d</th>\n",
       "    </tr>\n",
       "  </thead>\n",
       "  <tbody>\n",
       "    <tr>\n",
       "      <th>0</th>\n",
       "      <td>0.039762</td>\n",
       "      <td>0.218517</td>\n",
       "      <td>0.103423</td>\n",
       "      <td>0.957904</td>\n",
       "    </tr>\n",
       "    <tr>\n",
       "      <th>1</th>\n",
       "      <td>0.937288</td>\n",
       "      <td>0.041567</td>\n",
       "      <td>0.899125</td>\n",
       "      <td>0.977680</td>\n",
       "    </tr>\n",
       "    <tr>\n",
       "      <th>2</th>\n",
       "      <td>0.780504</td>\n",
       "      <td>0.008948</td>\n",
       "      <td>0.557808</td>\n",
       "      <td>0.797510</td>\n",
       "    </tr>\n",
       "    <tr>\n",
       "      <th>3</th>\n",
       "      <td>0.672717</td>\n",
       "      <td>0.247870</td>\n",
       "      <td>0.264071</td>\n",
       "      <td>0.444358</td>\n",
       "    </tr>\n",
       "    <tr>\n",
       "      <th>4</th>\n",
       "      <td>0.053829</td>\n",
       "      <td>0.520124</td>\n",
       "      <td>0.552264</td>\n",
       "      <td>0.190008</td>\n",
       "    </tr>\n",
       "  </tbody>\n",
       "</table>\n",
       "</div>"
      ],
      "text/plain": [
       "          a         b         c         d\n",
       "0  0.039762  0.218517  0.103423  0.957904\n",
       "1  0.937288  0.041567  0.899125  0.977680\n",
       "2  0.780504  0.008948  0.557808  0.797510\n",
       "3  0.672717  0.247870  0.264071  0.444358\n",
       "4  0.053829  0.520124  0.552264  0.190008"
      ]
     },
     "execution_count": 38,
     "metadata": {},
     "output_type": "execute_result"
    }
   ],
   "source": [
    "df2.head()"
   ]
  },
  {
   "cell_type": "code",
   "execution_count": 39,
   "metadata": {},
   "outputs": [
    {
     "data": {
      "text/plain": [
       "<matplotlib.axes._subplots.AxesSubplot at 0x1a228c6c90>"
      ]
     },
     "execution_count": 39,
     "metadata": {},
     "output_type": "execute_result"
    },
    {
     "data": {
      "image/png": "[encoded data removed]",
      "text/plain": [
       "<Figure size 432x288 with 1 Axes>"
      ]
     },
     "metadata": {},
     "output_type": "display_data"
    }
   ],
   "source": [
    "df1['A'].hist(bins=30)"
   ]
  },
  {
   "cell_type": "code",
   "execution_count": 40,
   "metadata": {},
   "outputs": [
    {
     "data": {
      "text/plain": [
       "<matplotlib.axes._subplots.AxesSubplot at 0x1a2299d850>"
      ]
     },
     "execution_count": 40,
     "metadata": {},
     "output_type": "execute_result"
    },
    {
     "data": {
      "image/png": "[encoded data removed]",
      "text/plain": [
       "<Figure size 432x288 with 1 Axes>"
      ]
     },
     "metadata": {},
     "output_type": "display_data"
    }
   ],
   "source": [
    "df1['A'].plot.hist()"
   ]
  },
  {
   "cell_type": "code",
   "execution_count": 41,
   "metadata": {},
   "outputs": [
    {
     "data": {
      "text/plain": [
       "<matplotlib.axes._subplots.AxesSubplot at 0x1a22c85d10>"
      ]
     },
     "execution_count": 41,
     "metadata": {},
     "output_type": "execute_result"
    },
    {
     "data": {
      "image/png": "[encoded data removed]",
      "text/plain": [
       "<Figure size 432x288 with 1 Axes>"
      ]
     },
     "metadata": {},
     "output_type": "display_data"
    }
   ],
   "source": [
    "df2.plot.bar(stacked=True)"
   ]
  },
  {
   "cell_type": "code",
   "execution_count": 42,
   "metadata": {},
   "outputs": [
    {
     "data": {
      "text/plain": [
       "<matplotlib.axes._subplots.AxesSubplot at 0x1a22c7c990>"
      ]
     },
     "execution_count": 42,
     "metadata": {},
     "output_type": "execute_result"
    },
    {
     "data": {
      "image/png": "[encoded data removed]",
      "text/plain": [
       "<Figure size 432x288 with 1 Axes>"
      ]
     },
     "metadata": {},
     "output_type": "display_data"
    }
   ],
   "source": [
    "df1['A'].plot.hist(bins=50)"
   ]
  },
  {
   "cell_type": "code",
   "execution_count": 63,
   "metadata": {},
   "outputs": [
    {
     "data": {
      "text/plain": [
       "array(['2000-01-01', '2000-01-02', '2000-01-03', '2000-01-04',\n",
       "       '2000-01-05', '2000-01-06', '2000-01-07', '2000-01-08',\n",
       "       '2000-01-09', '2000-01-10', '2000-01-11', '2000-01-12',\n",
       "       '2000-01-13', '2000-01-14', '2000-01-15', '2000-01-16',\n",
       "       '2000-01-17', '2000-01-18', '2000-01-19', '2000-01-20',\n",
       "       '2000-01-21', '2000-01-22', '2000-01-23', '2000-01-24',\n",
       "       '2000-01-25', '2000-01-26', '2000-01-27', '2000-01-28',\n",
       "       '2000-01-29', '2000-01-30', '2000-01-31', '2000-02-01',\n",
       "       '2000-02-02', '2000-02-03', '2000-02-04', '2000-02-05',\n",
       "       '2000-02-06', '2000-02-07', '2000-02-08', '2000-02-09',\n",
       "       '2000-02-10', '2000-02-11', '2000-02-12', '2000-02-13',\n",
       "       '2000-02-14', '2000-02-15', '2000-02-16', '2000-02-17',\n",
       "       '2000-02-18', '2000-02-19', '2000-02-20', '2000-02-21',\n",
       "       '2000-02-22', '2000-02-23', '2000-02-24', '2000-02-25',\n",
       "       '2000-02-26', '2000-02-27', '2000-02-28', '2000-02-29',\n",
       "       '2000-03-01', '2000-03-02', '2000-03-03', '2000-03-04',\n",
       "       '2000-03-05', '2000-03-06', '2000-03-07', '2000-03-08',\n",
       "       '2000-03-09', '2000-03-10', '2000-03-11', '2000-03-12',\n",
       "       '2000-03-13', '2000-03-14', '2000-03-15', '2000-03-16',\n",
       "       '2000-03-17', '2000-03-18', '2000-03-19', '2000-03-20',\n",
       "       '2000-03-21', '2000-03-22', '2000-03-23', '2000-03-24',\n",
       "       '2000-03-25', '2000-03-26', '2000-03-27', '2000-03-28',\n",
       "       '2000-03-29', '2000-03-30', '2000-03-31', '2000-04-01',\n",
       "       '2000-04-02', '2000-04-03', '2000-04-04', '2000-04-05',\n",
       "       '2000-04-06', '2000-04-07', '2000-04-08', '2000-04-09',\n",
       "       '2000-04-10', '2000-04-11', '2000-04-12', '2000-04-13',\n",
       "       '2000-04-14', '2000-04-15', '2000-04-16', '2000-04-17',\n",
       "       '2000-04-18', '2000-04-19', '2000-04-20', '2000-04-21',\n",
       "       '2000-04-22', '2000-04-23', '2000-04-24', '2000-04-25',\n",
       "       '2000-04-26', '2000-04-27', '2000-04-28', '2000-04-29',\n",
       "       '2000-04-30', '2000-05-01', '2000-05-02', '2000-05-03',\n",
       "       '2000-05-04', '2000-05-05', '2000-05-06', '2000-05-07',\n",
       "       '2000-05-08', '2000-05-09', '2000-05-10', '2000-05-11',\n",
       "       '2000-05-12', '2000-05-13', '2000-05-14', '2000-05-15',\n",
       "       '2000-05-16', '2000-05-17', '2000-05-18', '2000-05-19',\n",
       "       '2000-05-20', '2000-05-21', '2000-05-22', '2000-05-23',\n",
       "       '2000-05-24', '2000-05-25', '2000-05-26', '2000-05-27',\n",
       "       '2000-05-28', '2000-05-29', '2000-05-30', '2000-05-31',\n",
       "       '2000-06-01', '2000-06-02', '2000-06-03', '2000-06-04',\n",
       "       '2000-06-05', '2000-06-06', '2000-06-07', '2000-06-08',\n",
       "       '2000-06-09', '2000-06-10', '2000-06-11', '2000-06-12',\n",
       "       '2000-06-13', '2000-06-14', '2000-06-15', '2000-06-16',\n",
       "       '2000-06-17', '2000-06-18', '2000-06-19', '2000-06-20',\n",
       "       '2000-06-21', '2000-06-22', '2000-06-23', '2000-06-24',\n",
       "       '2000-06-25', '2000-06-26', '2000-06-27', '2000-06-28',\n",
       "       '2000-06-29', '2000-06-30', '2000-07-01', '2000-07-02',\n",
       "       '2000-07-03', '2000-07-04', '2000-07-05', '2000-07-06',\n",
       "       '2000-07-07', '2000-07-08', '2000-07-09', '2000-07-10',\n",
       "       '2000-07-11', '2000-07-12', '2000-07-13', '2000-07-14',\n",
       "       '2000-07-15', '2000-07-16', '2000-07-17', '2000-07-18',\n",
       "       '2000-07-19', '2000-07-20', '2000-07-21', '2000-07-22',\n",
       "       '2000-07-23', '2000-07-24', '2000-07-25', '2000-07-26',\n",
       "       '2000-07-27', '2000-07-28', '2000-07-29', '2000-07-30',\n",
       "       '2000-07-31', '2000-08-01', '2000-08-02', '2000-08-03',\n",
       "       '2000-08-04', '2000-08-05', '2000-08-06', '2000-08-07',\n",
       "       '2000-08-08', '2000-08-09', '2000-08-10', '2000-08-11',\n",
       "       '2000-08-12', '2000-08-13', '2000-08-14', '2000-08-15',\n",
       "       '2000-08-16', '2000-08-17', '2000-08-18', '2000-08-19',\n",
       "       '2000-08-20', '2000-08-21', '2000-08-22', '2000-08-23',\n",
       "       '2000-08-24', '2000-08-25', '2000-08-26', '2000-08-27',\n",
       "       '2000-08-28', '2000-08-29', '2000-08-30', '2000-08-31',\n",
       "       '2000-09-01', '2000-09-02', '2000-09-03', '2000-09-04',\n",
       "       '2000-09-05', '2000-09-06', '2000-09-07', '2000-09-08',\n",
       "       '2000-09-09', '2000-09-10', '2000-09-11', '2000-09-12',\n",
       "       '2000-09-13', '2000-09-14', '2000-09-15', '2000-09-16',\n",
       "       '2000-09-17', '2000-09-18', '2000-09-19', '2000-09-20',\n",
       "       '2000-09-21', '2000-09-22', '2000-09-23', '2000-09-24',\n",
       "       '2000-09-25', '2000-09-26', '2000-09-27', '2000-09-28',\n",
       "       '2000-09-29', '2000-09-30', '2000-10-01', '2000-10-02',\n",
       "       '2000-10-03', '2000-10-04', '2000-10-05', '2000-10-06',\n",
       "       '2000-10-07', '2000-10-08', '2000-10-09', '2000-10-10',\n",
       "       '2000-10-11', '2000-10-12', '2000-10-13', '2000-10-14',\n",
       "       '2000-10-15', '2000-10-16', '2000-10-17', '2000-10-18',\n",
       "       '2000-10-19', '2000-10-20', '2000-10-21', '2000-10-22',\n",
       "       '2000-10-23', '2000-10-24', '2000-10-25', '2000-10-26',\n",
       "       '2000-10-27', '2000-10-28', '2000-10-29', '2000-10-30',\n",
       "       '2000-10-31', '2000-11-01', '2000-11-02', '2000-11-03',\n",
       "       '2000-11-04', '2000-11-05', '2000-11-06', '2000-11-07',\n",
       "       '2000-11-08', '2000-11-09', '2000-11-10', '2000-11-11',\n",
       "       '2000-11-12', '2000-11-13', '2000-11-14', '2000-11-15',\n",
       "       '2000-11-16', '2000-11-17', '2000-11-18', '2000-11-19',\n",
       "       '2000-11-20', '2000-11-21', '2000-11-22', '2000-11-23',\n",
       "       '2000-11-24', '2000-11-25', '2000-11-26', '2000-11-27',\n",
       "       '2000-11-28', '2000-11-29', '2000-11-30', '2000-12-01',\n",
       "       '2000-12-02', '2000-12-03', '2000-12-04', '2000-12-05',\n",
       "       '2000-12-06', '2000-12-07', '2000-12-08', '2000-12-09',\n",
       "       '2000-12-10', '2000-12-11', '2000-12-12', '2000-12-13',\n",
       "       '2000-12-14', '2000-12-15', '2000-12-16', '2000-12-17',\n",
       "       '2000-12-18', '2000-12-19', '2000-12-20', '2000-12-21',\n",
       "       '2000-12-22', '2000-12-23', '2000-12-24', '2000-12-25',\n",
       "       '2000-12-26', '2000-12-27', '2000-12-28', '2000-12-29',\n",
       "       '2000-12-30', '2000-12-31', '2001-01-01', '2001-01-02',\n",
       "       '2001-01-03', '2001-01-04', '2001-01-05', '2001-01-06',\n",
       "       '2001-01-07', '2001-01-08', '2001-01-09', '2001-01-10',\n",
       "       '2001-01-11', '2001-01-12', '2001-01-13', '2001-01-14',\n",
       "       '2001-01-15', '2001-01-16', '2001-01-17', '2001-01-18',\n",
       "       '2001-01-19', '2001-01-20', '2001-01-21', '2001-01-22',\n",
       "       '2001-01-23', '2001-01-24', '2001-01-25', '2001-01-26',\n",
       "       '2001-01-27', '2001-01-28', '2001-01-29', '2001-01-30',\n",
       "       '2001-01-31', '2001-02-01', '2001-02-02', '2001-02-03',\n",
       "       '2001-02-04', '2001-02-05', '2001-02-06', '2001-02-07',\n",
       "       '2001-02-08', '2001-02-09', '2001-02-10', '2001-02-11',\n",
       "       '2001-02-12', '2001-02-13', '2001-02-14', '2001-02-15',\n",
       "       '2001-02-16', '2001-02-17', '2001-02-18', '2001-02-19',\n",
       "       '2001-02-20', '2001-02-21', '2001-02-22', '2001-02-23',\n",
       "       '2001-02-24', '2001-02-25', '2001-02-26', '2001-02-27',\n",
       "       '2001-02-28', '2001-03-01', '2001-03-02', '2001-03-03',\n",
       "       '2001-03-04', '2001-03-05', '2001-03-06', '2001-03-07',\n",
       "       '2001-03-08', '2001-03-09', '2001-03-10', '2001-03-11',\n",
       "       '2001-03-12', '2001-03-13', '2001-03-14', '2001-03-15',\n",
       "       '2001-03-16', '2001-03-17', '2001-03-18', '2001-03-19',\n",
       "       '2001-03-20', '2001-03-21', '2001-03-22', '2001-03-23',\n",
       "       '2001-03-24', '2001-03-25', '2001-03-26', '2001-03-27',\n",
       "       '2001-03-28', '2001-03-29', '2001-03-30', '2001-03-31',\n",
       "       '2001-04-01', '2001-04-02', '2001-04-03', '2001-04-04',\n",
       "       '2001-04-05', '2001-04-06', '2001-04-07', '2001-04-08',\n",
       "       '2001-04-09', '2001-04-10', '2001-04-11', '2001-04-12',\n",
       "       '2001-04-13', '2001-04-14', '2001-04-15', '2001-04-16',\n",
       "       '2001-04-17', '2001-04-18', '2001-04-19', '2001-04-20',\n",
       "       '2001-04-21', '2001-04-22', '2001-04-23', '2001-04-24',\n",
       "       '2001-04-25', '2001-04-26', '2001-04-27', '2001-04-28',\n",
       "       '2001-04-29', '2001-04-30', '2001-05-01', '2001-05-02',\n",
       "       '2001-05-03', '2001-05-04', '2001-05-05', '2001-05-06',\n",
       "       '2001-05-07', '2001-05-08', '2001-05-09', '2001-05-10',\n",
       "       '2001-05-11', '2001-05-12', '2001-05-13', '2001-05-14',\n",
       "       '2001-05-15', '2001-05-16', '2001-05-17', '2001-05-18',\n",
       "       '2001-05-19', '2001-05-20', '2001-05-21', '2001-05-22',\n",
       "       '2001-05-23', '2001-05-24', '2001-05-25', '2001-05-26',\n",
       "       '2001-05-27', '2001-05-28', '2001-05-29', '2001-05-30',\n",
       "       '2001-05-31', '2001-06-01', '2001-06-02', '2001-06-03',\n",
       "       '2001-06-04', '2001-06-05', '2001-06-06', '2001-06-07',\n",
       "       '2001-06-08', '2001-06-09', '2001-06-10', '2001-06-11',\n",
       "       '2001-06-12', '2001-06-13', '2001-06-14', '2001-06-15',\n",
       "       '2001-06-16', '2001-06-17', '2001-06-18', '2001-06-19',\n",
       "       '2001-06-20', '2001-06-21', '2001-06-22', '2001-06-23',\n",
       "       '2001-06-24', '2001-06-25', '2001-06-26', '2001-06-27',\n",
       "       '2001-06-28', '2001-06-29', '2001-06-30', '2001-07-01',\n",
       "       '2001-07-02', '2001-07-03', '2001-07-04', '2001-07-05',\n",
       "       '2001-07-06', '2001-07-07', '2001-07-08', '2001-07-09',\n",
       "       '2001-07-10', '2001-07-11', '2001-07-12', '2001-07-13',\n",
       "       '2001-07-14', '2001-07-15', '2001-07-16', '2001-07-17',\n",
       "       '2001-07-18', '2001-07-19', '2001-07-20', '2001-07-21',\n",
       "       '2001-07-22', '2001-07-23', '2001-07-24', '2001-07-25',\n",
       "       '2001-07-26', '2001-07-27', '2001-07-28', '2001-07-29',\n",
       "       '2001-07-30', '2001-07-31', '2001-08-01', '2001-08-02',\n",
       "       '2001-08-03', '2001-08-04', '2001-08-05', '2001-08-06',\n",
       "       '2001-08-07', '2001-08-08', '2001-08-09', '2001-08-10',\n",
       "       '2001-08-11', '2001-08-12', '2001-08-13', '2001-08-14',\n",
       "       '2001-08-15', '2001-08-16', '2001-08-17', '2001-08-18',\n",
       "       '2001-08-19', '2001-08-20', '2001-08-21', '2001-08-22',\n",
       "       '2001-08-23', '2001-08-24', '2001-08-25', '2001-08-26',\n",
       "       '2001-08-27', '2001-08-28', '2001-08-29', '2001-08-30',\n",
       "       '2001-08-31', '2001-09-01', '2001-09-02', '2001-09-03',\n",
       "       '2001-09-04', '2001-09-05', '2001-09-06', '2001-09-07',\n",
       "       '2001-09-08', '2001-09-09', '2001-09-10', '2001-09-11',\n",
       "       '2001-09-12', '2001-09-13', '2001-09-14', '2001-09-15',\n",
       "       '2001-09-16', '2001-09-17', '2001-09-18', '2001-09-19',\n",
       "       '2001-09-20', '2001-09-21', '2001-09-22', '2001-09-23',\n",
       "       '2001-09-24', '2001-09-25', '2001-09-26', '2001-09-27',\n",
       "       '2001-09-28', '2001-09-29', '2001-09-30', '2001-10-01',\n",
       "       '2001-10-02', '2001-10-03', '2001-10-04', '2001-10-05',\n",
       "       '2001-10-06', '2001-10-07', '2001-10-08', '2001-10-09',\n",
       "       '2001-10-10', '2001-10-11', '2001-10-12', '2001-10-13',\n",
       "       '2001-10-14', '2001-10-15', '2001-10-16', '2001-10-17',\n",
       "       '2001-10-18', '2001-10-19', '2001-10-20', '2001-10-21',\n",
       "       '2001-10-22', '2001-10-23', '2001-10-24', '2001-10-25',\n",
       "       '2001-10-26', '2001-10-27', '2001-10-28', '2001-10-29',\n",
       "       '2001-10-30', '2001-10-31', '2001-11-01', '2001-11-02',\n",
       "       '2001-11-03', '2001-11-04', '2001-11-05', '2001-11-06',\n",
       "       '2001-11-07', '2001-11-08', '2001-11-09', '2001-11-10',\n",
       "       '2001-11-11', '2001-11-12', '2001-11-13', '2001-11-14',\n",
       "       '2001-11-15', '2001-11-16', '2001-11-17', '2001-11-18',\n",
       "       '2001-11-19', '2001-11-20', '2001-11-21', '2001-11-22',\n",
       "       '2001-11-23', '2001-11-24', '2001-11-25', '2001-11-26',\n",
       "       '2001-11-27', '2001-11-28', '2001-11-29', '2001-11-30',\n",
       "       '2001-12-01', '2001-12-02', '2001-12-03', '2001-12-04',\n",
       "       '2001-12-05', '2001-12-06', '2001-12-07', '2001-12-08',\n",
       "       '2001-12-09', '2001-12-10', '2001-12-11', '2001-12-12',\n",
       "       '2001-12-13', '2001-12-14', '2001-12-15', '2001-12-16',\n",
       "       '2001-12-17', '2001-12-18', '2001-12-19', '2001-12-20',\n",
       "       '2001-12-21', '2001-12-22', '2001-12-23', '2001-12-24',\n",
       "       '2001-12-25', '2001-12-26', '2001-12-27', '2001-12-28',\n",
       "       '2001-12-29', '2001-12-30', '2001-12-31', '2002-01-01',\n",
       "       '2002-01-02', '2002-01-03', '2002-01-04', '2002-01-05',\n",
       "       '2002-01-06', '2002-01-07', '2002-01-08', '2002-01-09',\n",
       "       '2002-01-10', '2002-01-11', '2002-01-12', '2002-01-13',\n",
       "       '2002-01-14', '2002-01-15', '2002-01-16', '2002-01-17',\n",
       "       '2002-01-18', '2002-01-19', '2002-01-20', '2002-01-21',\n",
       "       '2002-01-22', '2002-01-23', '2002-01-24', '2002-01-25',\n",
       "       '2002-01-26', '2002-01-27', '2002-01-28', '2002-01-29',\n",
       "       '2002-01-30', '2002-01-31', '2002-02-01', '2002-02-02',\n",
       "       '2002-02-03', '2002-02-04', '2002-02-05', '2002-02-06',\n",
       "       '2002-02-07', '2002-02-08', '2002-02-09', '2002-02-10',\n",
       "       '2002-02-11', '2002-02-12', '2002-02-13', '2002-02-14',\n",
       "       '2002-02-15', '2002-02-16', '2002-02-17', '2002-02-18',\n",
       "       '2002-02-19', '2002-02-20', '2002-02-21', '2002-02-22',\n",
       "       '2002-02-23', '2002-02-24', '2002-02-25', '2002-02-26',\n",
       "       '2002-02-27', '2002-02-28', '2002-03-01', '2002-03-02',\n",
       "       '2002-03-03', '2002-03-04', '2002-03-05', '2002-03-06',\n",
       "       '2002-03-07', '2002-03-08', '2002-03-09', '2002-03-10',\n",
       "       '2002-03-11', '2002-03-12', '2002-03-13', '2002-03-14',\n",
       "       '2002-03-15', '2002-03-16', '2002-03-17', '2002-03-18',\n",
       "       '2002-03-19', '2002-03-20', '2002-03-21', '2002-03-22',\n",
       "       '2002-03-23', '2002-03-24', '2002-03-25', '2002-03-26',\n",
       "       '2002-03-27', '2002-03-28', '2002-03-29', '2002-03-30',\n",
       "       '2002-03-31', '2002-04-01', '2002-04-02', '2002-04-03',\n",
       "       '2002-04-04', '2002-04-05', '2002-04-06', '2002-04-07',\n",
       "       '2002-04-08', '2002-04-09', '2002-04-10', '2002-04-11',\n",
       "       '2002-04-12', '2002-04-13', '2002-04-14', '2002-04-15',\n",
       "       '2002-04-16', '2002-04-17', '2002-04-18', '2002-04-19',\n",
       "       '2002-04-20', '2002-04-21', '2002-04-22', '2002-04-23',\n",
       "       '2002-04-24', '2002-04-25', '2002-04-26', '2002-04-27',\n",
       "       '2002-04-28', '2002-04-29', '2002-04-30', '2002-05-01',\n",
       "       '2002-05-02', '2002-05-03', '2002-05-04', '2002-05-05',\n",
       "       '2002-05-06', '2002-05-07', '2002-05-08', '2002-05-09',\n",
       "       '2002-05-10', '2002-05-11', '2002-05-12', '2002-05-13',\n",
       "       '2002-05-14', '2002-05-15', '2002-05-16', '2002-05-17',\n",
       "       '2002-05-18', '2002-05-19', '2002-05-20', '2002-05-21',\n",
       "       '2002-05-22', '2002-05-23', '2002-05-24', '2002-05-25',\n",
       "       '2002-05-26', '2002-05-27', '2002-05-28', '2002-05-29',\n",
       "       '2002-05-30', '2002-05-31', '2002-06-01', '2002-06-02',\n",
       "       '2002-06-03', '2002-06-04', '2002-06-05', '2002-06-06',\n",
       "       '2002-06-07', '2002-06-08', '2002-06-09', '2002-06-10',\n",
       "       '2002-06-11', '2002-06-12', '2002-06-13', '2002-06-14',\n",
       "       '2002-06-15', '2002-06-16', '2002-06-17', '2002-06-18',\n",
       "       '2002-06-19', '2002-06-20', '2002-06-21', '2002-06-22',\n",
       "       '2002-06-23', '2002-06-24', '2002-06-25', '2002-06-26',\n",
       "       '2002-06-27', '2002-06-28', '2002-06-29', '2002-06-30',\n",
       "       '2002-07-01', '2002-07-02', '2002-07-03', '2002-07-04',\n",
       "       '2002-07-05', '2002-07-06', '2002-07-07', '2002-07-08',\n",
       "       '2002-07-09', '2002-07-10', '2002-07-11', '2002-07-12',\n",
       "       '2002-07-13', '2002-07-14', '2002-07-15', '2002-07-16',\n",
       "       '2002-07-17', '2002-07-18', '2002-07-19', '2002-07-20',\n",
       "       '2002-07-21', '2002-07-22', '2002-07-23', '2002-07-24',\n",
       "       '2002-07-25', '2002-07-26', '2002-07-27', '2002-07-28',\n",
       "       '2002-07-29', '2002-07-30', '2002-07-31', '2002-08-01',\n",
       "       '2002-08-02', '2002-08-03', '2002-08-04', '2002-08-05',\n",
       "       '2002-08-06', '2002-08-07', '2002-08-08', '2002-08-09',\n",
       "       '2002-08-10', '2002-08-11', '2002-08-12', '2002-08-13',\n",
       "       '2002-08-14', '2002-08-15', '2002-08-16', '2002-08-17',\n",
       "       '2002-08-18', '2002-08-19', '2002-08-20', '2002-08-21',\n",
       "       '2002-08-22', '2002-08-23', '2002-08-24', '2002-08-25',\n",
       "       '2002-08-26', '2002-08-27', '2002-08-28', '2002-08-29',\n",
       "       '2002-08-30', '2002-08-31', '2002-09-01', '2002-09-02',\n",
       "       '2002-09-03', '2002-09-04', '2002-09-05', '2002-09-06',\n",
       "       '2002-09-07', '2002-09-08', '2002-09-09', '2002-09-10',\n",
       "       '2002-09-11', '2002-09-12', '2002-09-13', '2002-09-14',\n",
       "       '2002-09-15', '2002-09-16', '2002-09-17', '2002-09-18',\n",
       "       '2002-09-19', '2002-09-20', '2002-09-21', '2002-09-22',\n",
       "       '2002-09-23', '2002-09-24', '2002-09-25', '2002-09-26'],\n",
       "      dtype=object)"
      ]
     },
     "execution_count": 63,
     "metadata": {},
     "output_type": "execute_result"
    }
   ],
   "source": [
    "df1.plot.line(y='B', index = df1.index,figsize=(12,3),lw=1)"
   ]
  },
  {
   "cell_type": "code",
   "execution_count": null,
   "metadata": {},
   "outputs": [],
   "source": []
  }
 ],
 "metadata": {
  "kernelspec": {
   "display_name": "Python [conda env:anaconda]",
   "language": "python",
   "name": "conda-env-anaconda-py"
  },
  "language_info": {
   "codemirror_mode": {
    "name": "ipython",
    "version": 2
   },
   "file_extension": ".py",
   "mimetype": "text/x-python",
   "name": "python",
   "nbconvert_exporter": "python",
   "pygments_lexer": "ipython2",
   "version": "2.7.15"
  }
 },
 "nbformat": 4,
 "nbformat_minor": 2
}
