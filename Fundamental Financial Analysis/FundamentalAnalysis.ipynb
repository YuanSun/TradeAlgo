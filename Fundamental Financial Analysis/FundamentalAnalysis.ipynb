{
 "cells": [
  {
   "cell_type": "markdown",
   "metadata": {},
   "source": [
    "# Financial Fundamentals\n",
    "- Portfolio Allocation\n",
    "- Sharpe Ratio\n",
    "- Portfolio Optimization\n",
    "- Efficient Frontier\n",
    "- CAPM - Capital Asset Pricing Model"
   ]
  },
  {
   "cell_type": "markdown",
   "metadata": {},
   "source": [
    "## Portfolio and Statistics\n",
    "A portfolio is just a set of allocations in a variety of securities. For example: 20% in AAPL, 30% in FB, 50% in GOOG\n",
    "\n",
    "### Key statistics\n",
    "- Daily Returns - The percentage returned from 1 day to the next for a stock.\n",
    "- Cumulative Return - The amount returned after an entire time period\n",
    "- Avg. Daily Return - Mean of Daily Returns\n",
    "- Std. Daily Return - Std. Dev of Daily Returns\n",
    "\n",
    "### Sharpe Ratio\n",
    "The Sharpe Ratio is a measure for calculating risk-adjusted return, and this ratio has become the industry standard for such calculations. It was developed by Nobel Laureate William F. Sharpe.\n",
    "\n",
    "$SR = \\dfrac{r_p - r_f}{\\sigma_p}$\n",
    "\n",
    "- $r_p$ is expected portfolio return\n",
    "- $r_f$ is risk-free return\n",
    "- $\\sigma_p$ is porfolio standard deviation\n",
    "\n",
    "Risk free return is the return you would receive if you put your money in an investment such as a bank savings account, LIBOR, Treasury Bonds that are essentially \"risk-free\".\n",
    "\n",
    "Currently in the United State (early 2017), these returns are very close to 0%, so its just easier to approximate $r_f$ as 0. Keep in mind though, the Federal Reserve may continue to raise interest rates in the future, effecting this result!!\n",
    "\n",
    "- For now, assuming $r_f$ is 0, so **SR = Mean Return / Std.Dev.**\n",
    "- Keep in mind that Sharpe Ratio originally thought of this as a yearly metric (as in mean yearly return vs. mean daily return). This is easy to fix though."
   ]
  },
  {
   "cell_type": "markdown",
   "metadata": {},
   "source": [
    "### Annualized Sharpe Ratio\n",
    "The annualized Sharpe Ratio can be obtained by multiplying against a K-Factor based off your Sampling Rate:\n",
    "- Daily: K = sqrt(252)\n",
    "- Weekly: K = sqrt(52)\n",
    "- Monthly: K = sqrt(12)\n",
    "\n",
    "So $ASR = K \\times SR$"
   ]
  },
  {
   "cell_type": "markdown",
   "metadata": {},
   "source": [
    "# Code along Portfolio Allocation & Sharpe Ratio"
   ]
  },
  {
   "cell_type": "code",
   "execution_count": 1,
   "metadata": {},
   "outputs": [],
   "source": [
    "import pandas as pd\n",
    "import quandl"
   ]
  },
  {
   "cell_type": "code",
   "execution_count": 2,
   "metadata": {},
   "outputs": [],
   "source": [
    "start = pd.to_datetime('2012-01-01')\n",
    "end = pd.to_datetime('2017-01-01')"
   ]
  },
  {
   "cell_type": "code",
   "execution_count": 3,
   "metadata": {},
   "outputs": [],
   "source": [
    "aapl = quandl.get('WIKI/AAPL.11', start_date=start, end_date=end)\n",
    "cisco  = quandl.get('WIKI/CSCO.11', start_date=start, end_date=end)\n",
    "ibm = quandl.get('WIKI/IBM.11', start_date=start, end_date=end)\n",
    "amzn = quandl.get('WIKI/AMZN.11', start_date=start, end_date=end)"
   ]
  },
  {
   "cell_type": "code",
   "execution_count": 4,
   "metadata": {},
   "outputs": [
    {
     "data": {
      "text/plain": [
       "52.848786580038"
      ]
     },
     "execution_count": 4,
     "metadata": {},
     "output_type": "execute_result"
    }
   ],
   "source": [
    "aapl.iloc[0]['Adj. Close']"
   ]
  },
  {
   "cell_type": "code",
   "execution_count": 5,
   "metadata": {},
   "outputs": [],
   "source": [
    "# Cumulated return, also known as normalized price\n",
    "for stock_df in (aapl, cisco, ibm, amzn): \n",
    "    stock_df['Normed return'] = stock_df['Adj. Close'] / stock_df.iloc[0]['Adj. Close']\n",
    "    "
   ]
  },
  {
   "cell_type": "code",
   "execution_count": 6,
   "metadata": {},
   "outputs": [
    {
     "data": {
      "text/html": [
       "<div>\n",
       "<style scoped>\n",
       "    .dataframe tbody tr th:only-of-type {\n",
       "        vertical-align: middle;\n",
       "    }\n",
       "\n",
       "    .dataframe tbody tr th {\n",
       "        vertical-align: top;\n",
       "    }\n",
       "\n",
       "    .dataframe thead th {\n",
       "        text-align: right;\n",
       "    }\n",
       "</style>\n",
       "<table border=\"1\" class=\"dataframe\">\n",
       "  <thead>\n",
       "    <tr style=\"text-align: right;\">\n",
       "      <th></th>\n",
       "      <th>Adj. Close</th>\n",
       "      <th>Normed return</th>\n",
       "    </tr>\n",
       "    <tr>\n",
       "      <th>Date</th>\n",
       "      <th></th>\n",
       "      <th></th>\n",
       "    </tr>\n",
       "  </thead>\n",
       "  <tbody>\n",
       "    <tr>\n",
       "      <th>2016-12-23</th>\n",
       "      <td>115.080808</td>\n",
       "      <td>2.177549</td>\n",
       "    </tr>\n",
       "    <tr>\n",
       "      <th>2016-12-27</th>\n",
       "      <td>115.811668</td>\n",
       "      <td>2.191378</td>\n",
       "    </tr>\n",
       "    <tr>\n",
       "      <th>2016-12-28</th>\n",
       "      <td>115.317843</td>\n",
       "      <td>2.182034</td>\n",
       "    </tr>\n",
       "    <tr>\n",
       "      <th>2016-12-29</th>\n",
       "      <td>115.288214</td>\n",
       "      <td>2.181473</td>\n",
       "    </tr>\n",
       "    <tr>\n",
       "      <th>2016-12-30</th>\n",
       "      <td>114.389454</td>\n",
       "      <td>2.164467</td>\n",
       "    </tr>\n",
       "  </tbody>\n",
       "</table>\n",
       "</div>"
      ],
      "text/plain": [
       "            Adj. Close  Normed return\n",
       "Date                                 \n",
       "2016-12-23  115.080808       2.177549\n",
       "2016-12-27  115.811668       2.191378\n",
       "2016-12-28  115.317843       2.182034\n",
       "2016-12-29  115.288214       2.181473\n",
       "2016-12-30  114.389454       2.164467"
      ]
     },
     "execution_count": 6,
     "metadata": {},
     "output_type": "execute_result"
    }
   ],
   "source": [
    "aapl.tail()"
   ]
  },
  {
   "cell_type": "code",
   "execution_count": 7,
   "metadata": {},
   "outputs": [],
   "source": [
    "# 30% in apple\n",
    "# 20% in cisco\n",
    "# 40% in amazon\n",
    "# 10% in ibm\n",
    "\n",
    "for stock_df, allo in zip((aapl, cisco, ibm, amzn), [.3, .2, .4, .1]):\n",
    "    stock_df['Allocation'] = stock_df['Normed return'] * allo"
   ]
  },
  {
   "cell_type": "code",
   "execution_count": 8,
   "metadata": {},
   "outputs": [
    {
     "data": {
      "text/html": [
       "<div>\n",
       "<style scoped>\n",
       "    .dataframe tbody tr th:only-of-type {\n",
       "        vertical-align: middle;\n",
       "    }\n",
       "\n",
       "    .dataframe tbody tr th {\n",
       "        vertical-align: top;\n",
       "    }\n",
       "\n",
       "    .dataframe thead th {\n",
       "        text-align: right;\n",
       "    }\n",
       "</style>\n",
       "<table border=\"1\" class=\"dataframe\">\n",
       "  <thead>\n",
       "    <tr style=\"text-align: right;\">\n",
       "      <th></th>\n",
       "      <th>Adj. Close</th>\n",
       "      <th>Normed return</th>\n",
       "      <th>Allocation</th>\n",
       "    </tr>\n",
       "    <tr>\n",
       "      <th>Date</th>\n",
       "      <th></th>\n",
       "      <th></th>\n",
       "      <th></th>\n",
       "    </tr>\n",
       "  </thead>\n",
       "  <tbody>\n",
       "    <tr>\n",
       "      <th>2016-12-23</th>\n",
       "      <td>115.080808</td>\n",
       "      <td>2.177549</td>\n",
       "      <td>0.653265</td>\n",
       "    </tr>\n",
       "    <tr>\n",
       "      <th>2016-12-27</th>\n",
       "      <td>115.811668</td>\n",
       "      <td>2.191378</td>\n",
       "      <td>0.657413</td>\n",
       "    </tr>\n",
       "    <tr>\n",
       "      <th>2016-12-28</th>\n",
       "      <td>115.317843</td>\n",
       "      <td>2.182034</td>\n",
       "      <td>0.654610</td>\n",
       "    </tr>\n",
       "    <tr>\n",
       "      <th>2016-12-29</th>\n",
       "      <td>115.288214</td>\n",
       "      <td>2.181473</td>\n",
       "      <td>0.654442</td>\n",
       "    </tr>\n",
       "    <tr>\n",
       "      <th>2016-12-30</th>\n",
       "      <td>114.389454</td>\n",
       "      <td>2.164467</td>\n",
       "      <td>0.649340</td>\n",
       "    </tr>\n",
       "  </tbody>\n",
       "</table>\n",
       "</div>"
      ],
      "text/plain": [
       "            Adj. Close  Normed return  Allocation\n",
       "Date                                             \n",
       "2016-12-23  115.080808       2.177549    0.653265\n",
       "2016-12-27  115.811668       2.191378    0.657413\n",
       "2016-12-28  115.317843       2.182034    0.654610\n",
       "2016-12-29  115.288214       2.181473    0.654442\n",
       "2016-12-30  114.389454       2.164467    0.649340"
      ]
     },
     "execution_count": 8,
     "metadata": {},
     "output_type": "execute_result"
    }
   ],
   "source": [
    "aapl.tail()"
   ]
  },
  {
   "cell_type": "code",
   "execution_count": 9,
   "metadata": {},
   "outputs": [],
   "source": [
    "for stock_df in (aapl, cisco, ibm, amzn):\n",
    "    stock_df['Position values'] = stock_df['Allocation'] * 1000000"
   ]
  },
  {
   "cell_type": "code",
   "execution_count": 10,
   "metadata": {},
   "outputs": [
    {
     "data": {
      "text/html": [
       "<div>\n",
       "<style scoped>\n",
       "    .dataframe tbody tr th:only-of-type {\n",
       "        vertical-align: middle;\n",
       "    }\n",
       "\n",
       "    .dataframe tbody tr th {\n",
       "        vertical-align: top;\n",
       "    }\n",
       "\n",
       "    .dataframe thead th {\n",
       "        text-align: right;\n",
       "    }\n",
       "</style>\n",
       "<table border=\"1\" class=\"dataframe\">\n",
       "  <thead>\n",
       "    <tr style=\"text-align: right;\">\n",
       "      <th></th>\n",
       "      <th>Adj. Close</th>\n",
       "      <th>Normed return</th>\n",
       "      <th>Allocation</th>\n",
       "      <th>Position values</th>\n",
       "    </tr>\n",
       "    <tr>\n",
       "      <th>Date</th>\n",
       "      <th></th>\n",
       "      <th></th>\n",
       "      <th></th>\n",
       "      <th></th>\n",
       "    </tr>\n",
       "  </thead>\n",
       "  <tbody>\n",
       "    <tr>\n",
       "      <th>2012-01-03</th>\n",
       "      <td>52.848787</td>\n",
       "      <td>1.000000</td>\n",
       "      <td>0.300000</td>\n",
       "      <td>300000.000000</td>\n",
       "    </tr>\n",
       "    <tr>\n",
       "      <th>2012-01-04</th>\n",
       "      <td>53.132802</td>\n",
       "      <td>1.005374</td>\n",
       "      <td>0.301612</td>\n",
       "      <td>301612.236461</td>\n",
       "    </tr>\n",
       "    <tr>\n",
       "      <th>2012-01-05</th>\n",
       "      <td>53.722681</td>\n",
       "      <td>1.016536</td>\n",
       "      <td>0.304961</td>\n",
       "      <td>304960.727573</td>\n",
       "    </tr>\n",
       "    <tr>\n",
       "      <th>2012-01-06</th>\n",
       "      <td>54.284287</td>\n",
       "      <td>1.027162</td>\n",
       "      <td>0.308149</td>\n",
       "      <td>308148.724558</td>\n",
       "    </tr>\n",
       "    <tr>\n",
       "      <th>2012-01-09</th>\n",
       "      <td>54.198183</td>\n",
       "      <td>1.025533</td>\n",
       "      <td>0.307660</td>\n",
       "      <td>307659.946988</td>\n",
       "    </tr>\n",
       "  </tbody>\n",
       "</table>\n",
       "</div>"
      ],
      "text/plain": [
       "            Adj. Close  Normed return  Allocation  Position values\n",
       "Date                                                              \n",
       "2012-01-03   52.848787       1.000000    0.300000    300000.000000\n",
       "2012-01-04   53.132802       1.005374    0.301612    301612.236461\n",
       "2012-01-05   53.722681       1.016536    0.304961    304960.727573\n",
       "2012-01-06   54.284287       1.027162    0.308149    308148.724558\n",
       "2012-01-09   54.198183       1.025533    0.307660    307659.946988"
      ]
     },
     "execution_count": 10,
     "metadata": {},
     "output_type": "execute_result"
    }
   ],
   "source": [
    "aapl.head()"
   ]
  },
  {
   "cell_type": "code",
   "execution_count": 11,
   "metadata": {},
   "outputs": [],
   "source": [
    "all_pos_vals = [aapl['Position values'], cisco['Position values'], ibm['Position values'], amzn['Position values']]\n"
   ]
  },
  {
   "cell_type": "code",
   "execution_count": 12,
   "metadata": {},
   "outputs": [],
   "source": [
    "portfolio_val = pd.concat(all_pos_vals, axis = 1)"
   ]
  },
  {
   "cell_type": "code",
   "execution_count": 13,
   "metadata": {},
   "outputs": [
    {
     "data": {
      "text/html": [
       "<div>\n",
       "<style scoped>\n",
       "    .dataframe tbody tr th:only-of-type {\n",
       "        vertical-align: middle;\n",
       "    }\n",
       "\n",
       "    .dataframe tbody tr th {\n",
       "        vertical-align: top;\n",
       "    }\n",
       "\n",
       "    .dataframe thead th {\n",
       "        text-align: right;\n",
       "    }\n",
       "</style>\n",
       "<table border=\"1\" class=\"dataframe\">\n",
       "  <thead>\n",
       "    <tr style=\"text-align: right;\">\n",
       "      <th></th>\n",
       "      <th>Position values</th>\n",
       "      <th>Position values</th>\n",
       "      <th>Position values</th>\n",
       "      <th>Position values</th>\n",
       "    </tr>\n",
       "    <tr>\n",
       "      <th>Date</th>\n",
       "      <th></th>\n",
       "      <th></th>\n",
       "      <th></th>\n",
       "      <th></th>\n",
       "    </tr>\n",
       "  </thead>\n",
       "  <tbody>\n",
       "    <tr>\n",
       "      <th>2012-01-03</th>\n",
       "      <td>300000.000000</td>\n",
       "      <td>200000.000000</td>\n",
       "      <td>400000.000000</td>\n",
       "      <td>100000.000000</td>\n",
       "    </tr>\n",
       "    <tr>\n",
       "      <th>2012-01-04</th>\n",
       "      <td>301612.236461</td>\n",
       "      <td>203864.734300</td>\n",
       "      <td>398368.223296</td>\n",
       "      <td>99150.980283</td>\n",
       "    </tr>\n",
       "    <tr>\n",
       "      <th>2012-01-05</th>\n",
       "      <td>304960.727573</td>\n",
       "      <td>203113.258186</td>\n",
       "      <td>396478.797638</td>\n",
       "      <td>99206.836843</td>\n",
       "    </tr>\n",
       "    <tr>\n",
       "      <th>2012-01-06</th>\n",
       "      <td>308148.724558</td>\n",
       "      <td>202361.782072</td>\n",
       "      <td>391926.999463</td>\n",
       "      <td>101999.664861</td>\n",
       "    </tr>\n",
       "    <tr>\n",
       "      <th>2012-01-09</th>\n",
       "      <td>307659.946988</td>\n",
       "      <td>203650.026838</td>\n",
       "      <td>389887.278583</td>\n",
       "      <td>99737.474166</td>\n",
       "    </tr>\n",
       "  </tbody>\n",
       "</table>\n",
       "</div>"
      ],
      "text/plain": [
       "            Position values  Position values  Position values  Position values\n",
       "Date                                                                          \n",
       "2012-01-03    300000.000000    200000.000000    400000.000000    100000.000000\n",
       "2012-01-04    301612.236461    203864.734300    398368.223296     99150.980283\n",
       "2012-01-05    304960.727573    203113.258186    396478.797638     99206.836843\n",
       "2012-01-06    308148.724558    202361.782072    391926.999463    101999.664861\n",
       "2012-01-09    307659.946988    203650.026838    389887.278583     99737.474166"
      ]
     },
     "execution_count": 13,
     "metadata": {},
     "output_type": "execute_result"
    }
   ],
   "source": [
    "portfolio_val.head()"
   ]
  },
  {
   "cell_type": "code",
   "execution_count": 14,
   "metadata": {},
   "outputs": [],
   "source": [
    "portfolio_val.columns=['AAPL Pos', 'CISCO Pos', 'IBM Pos', 'AMZN Pos']"
   ]
  },
  {
   "cell_type": "code",
   "execution_count": 15,
   "metadata": {},
   "outputs": [],
   "source": [
    "portfolio_val['Total Pos'] = portfolio_val.sum(axis = 1)"
   ]
  },
  {
   "cell_type": "code",
   "execution_count": 16,
   "metadata": {},
   "outputs": [
    {
     "data": {
      "text/html": [
       "<div>\n",
       "<style scoped>\n",
       "    .dataframe tbody tr th:only-of-type {\n",
       "        vertical-align: middle;\n",
       "    }\n",
       "\n",
       "    .dataframe tbody tr th {\n",
       "        vertical-align: top;\n",
       "    }\n",
       "\n",
       "    .dataframe thead th {\n",
       "        text-align: right;\n",
       "    }\n",
       "</style>\n",
       "<table border=\"1\" class=\"dataframe\">\n",
       "  <thead>\n",
       "    <tr style=\"text-align: right;\">\n",
       "      <th></th>\n",
       "      <th>AAPL Pos</th>\n",
       "      <th>CISCO Pos</th>\n",
       "      <th>IBM Pos</th>\n",
       "      <th>AMZN Pos</th>\n",
       "      <th>Total Pos</th>\n",
       "    </tr>\n",
       "    <tr>\n",
       "      <th>Date</th>\n",
       "      <th></th>\n",
       "      <th></th>\n",
       "      <th></th>\n",
       "      <th></th>\n",
       "      <th></th>\n",
       "    </tr>\n",
       "  </thead>\n",
       "  <tbody>\n",
       "    <tr>\n",
       "      <th>2012-01-03</th>\n",
       "      <td>300000.000000</td>\n",
       "      <td>200000.000000</td>\n",
       "      <td>400000.000000</td>\n",
       "      <td>100000.000000</td>\n",
       "      <td>1.000000e+06</td>\n",
       "    </tr>\n",
       "    <tr>\n",
       "      <th>2012-01-04</th>\n",
       "      <td>301612.236461</td>\n",
       "      <td>203864.734300</td>\n",
       "      <td>398368.223296</td>\n",
       "      <td>99150.980283</td>\n",
       "      <td>1.002996e+06</td>\n",
       "    </tr>\n",
       "    <tr>\n",
       "      <th>2012-01-05</th>\n",
       "      <td>304960.727573</td>\n",
       "      <td>203113.258186</td>\n",
       "      <td>396478.797638</td>\n",
       "      <td>99206.836843</td>\n",
       "      <td>1.003760e+06</td>\n",
       "    </tr>\n",
       "    <tr>\n",
       "      <th>2012-01-06</th>\n",
       "      <td>308148.724558</td>\n",
       "      <td>202361.782072</td>\n",
       "      <td>391926.999463</td>\n",
       "      <td>101999.664861</td>\n",
       "      <td>1.004437e+06</td>\n",
       "    </tr>\n",
       "    <tr>\n",
       "      <th>2012-01-09</th>\n",
       "      <td>307659.946988</td>\n",
       "      <td>203650.026838</td>\n",
       "      <td>389887.278583</td>\n",
       "      <td>99737.474166</td>\n",
       "      <td>1.000935e+06</td>\n",
       "    </tr>\n",
       "  </tbody>\n",
       "</table>\n",
       "</div>"
      ],
      "text/plain": [
       "                 AAPL Pos      CISCO Pos        IBM Pos       AMZN Pos  \\\n",
       "Date                                                                     \n",
       "2012-01-03  300000.000000  200000.000000  400000.000000  100000.000000   \n",
       "2012-01-04  301612.236461  203864.734300  398368.223296   99150.980283   \n",
       "2012-01-05  304960.727573  203113.258186  396478.797638   99206.836843   \n",
       "2012-01-06  308148.724558  202361.782072  391926.999463  101999.664861   \n",
       "2012-01-09  307659.946988  203650.026838  389887.278583   99737.474166   \n",
       "\n",
       "               Total Pos  \n",
       "Date                      \n",
       "2012-01-03  1.000000e+06  \n",
       "2012-01-04  1.002996e+06  \n",
       "2012-01-05  1.003760e+06  \n",
       "2012-01-06  1.004437e+06  \n",
       "2012-01-09  1.000935e+06  "
      ]
     },
     "execution_count": 16,
     "metadata": {},
     "output_type": "execute_result"
    }
   ],
   "source": [
    "portfolio_val.head()"
   ]
  },
  {
   "cell_type": "code",
   "execution_count": 17,
   "metadata": {},
   "outputs": [],
   "source": [
    "import matplotlib.pyplot as plt\n",
    "%matplotlib inline"
   ]
  },
  {
   "cell_type": "code",
   "execution_count": 18,
   "metadata": {},
   "outputs": [
    {
     "data": {
      "text/plain": [
       "Text(0.5,1,'Total Portfolio Value')"
      ]
     },
     "execution_count": 18,
     "metadata": {},
     "output_type": "execute_result"
    },
    {
     "data": {
      "image/png": "[encoded data removed]",
      "text/plain": [
       "<Figure size 720x576 with 1 Axes>"
      ]
     },
     "metadata": {},
     "output_type": "display_data"
    }
   ],
   "source": [
    "portfolio_val['Total Pos'].plot(figsize = (10, 8))\n",
    "plt.title('Total Portfolio Value')"
   ]
  },
  {
   "cell_type": "code",
   "execution_count": 19,
   "metadata": {},
   "outputs": [
    {
     "data": {
      "text/plain": [
       "<matplotlib.axes._subplots.AxesSubplot at 0x12b9bc450>"
      ]
     },
     "execution_count": 19,
     "metadata": {},
     "output_type": "execute_result"
    },
    {
     "data": {
      "image/png": "[encoded data removed]",
      "text/plain": [
       "<Figure size 720x576 with 1 Axes>"
      ]
     },
     "metadata": {},
     "output_type": "display_data"
    }
   ],
   "source": [
    "portfolio_val.drop('Total Pos', axis = 1).plot(figsize = (10, 8))"
   ]
  },
  {
   "cell_type": "code",
   "execution_count": 20,
   "metadata": {},
   "outputs": [
    {
     "data": {
      "text/html": [
       "<div>\n",
       "<style scoped>\n",
       "    .dataframe tbody tr th:only-of-type {\n",
       "        vertical-align: middle;\n",
       "    }\n",
       "\n",
       "    .dataframe tbody tr th {\n",
       "        vertical-align: top;\n",
       "    }\n",
       "\n",
       "    .dataframe thead th {\n",
       "        text-align: right;\n",
       "    }\n",
       "</style>\n",
       "<table border=\"1\" class=\"dataframe\">\n",
       "  <thead>\n",
       "    <tr style=\"text-align: right;\">\n",
       "      <th></th>\n",
       "      <th>AAPL Pos</th>\n",
       "      <th>CISCO Pos</th>\n",
       "      <th>IBM Pos</th>\n",
       "      <th>AMZN Pos</th>\n",
       "      <th>Total Pos</th>\n",
       "    </tr>\n",
       "    <tr>\n",
       "      <th>Date</th>\n",
       "      <th></th>\n",
       "      <th></th>\n",
       "      <th></th>\n",
       "      <th></th>\n",
       "      <th></th>\n",
       "    </tr>\n",
       "  </thead>\n",
       "  <tbody>\n",
       "    <tr>\n",
       "      <th>2012-01-03</th>\n",
       "      <td>300000.000000</td>\n",
       "      <td>200000.000000</td>\n",
       "      <td>400000.000000</td>\n",
       "      <td>100000.000000</td>\n",
       "      <td>1.000000e+06</td>\n",
       "    </tr>\n",
       "    <tr>\n",
       "      <th>2012-01-04</th>\n",
       "      <td>301612.236461</td>\n",
       "      <td>203864.734300</td>\n",
       "      <td>398368.223296</td>\n",
       "      <td>99150.980283</td>\n",
       "      <td>1.002996e+06</td>\n",
       "    </tr>\n",
       "    <tr>\n",
       "      <th>2012-01-05</th>\n",
       "      <td>304960.727573</td>\n",
       "      <td>203113.258186</td>\n",
       "      <td>396478.797638</td>\n",
       "      <td>99206.836843</td>\n",
       "      <td>1.003760e+06</td>\n",
       "    </tr>\n",
       "    <tr>\n",
       "      <th>2012-01-06</th>\n",
       "      <td>308148.724558</td>\n",
       "      <td>202361.782072</td>\n",
       "      <td>391926.999463</td>\n",
       "      <td>101999.664861</td>\n",
       "      <td>1.004437e+06</td>\n",
       "    </tr>\n",
       "    <tr>\n",
       "      <th>2012-01-09</th>\n",
       "      <td>307659.946988</td>\n",
       "      <td>203650.026838</td>\n",
       "      <td>389887.278583</td>\n",
       "      <td>99737.474166</td>\n",
       "      <td>1.000935e+06</td>\n",
       "    </tr>\n",
       "  </tbody>\n",
       "</table>\n",
       "</div>"
      ],
      "text/plain": [
       "                 AAPL Pos      CISCO Pos        IBM Pos       AMZN Pos  \\\n",
       "Date                                                                     \n",
       "2012-01-03  300000.000000  200000.000000  400000.000000  100000.000000   \n",
       "2012-01-04  301612.236461  203864.734300  398368.223296   99150.980283   \n",
       "2012-01-05  304960.727573  203113.258186  396478.797638   99206.836843   \n",
       "2012-01-06  308148.724558  202361.782072  391926.999463  101999.664861   \n",
       "2012-01-09  307659.946988  203650.026838  389887.278583   99737.474166   \n",
       "\n",
       "               Total Pos  \n",
       "Date                      \n",
       "2012-01-03  1.000000e+06  \n",
       "2012-01-04  1.002996e+06  \n",
       "2012-01-05  1.003760e+06  \n",
       "2012-01-06  1.004437e+06  \n",
       "2012-01-09  1.000935e+06  "
      ]
     },
     "execution_count": 20,
     "metadata": {},
     "output_type": "execute_result"
    }
   ],
   "source": [
    "portfolio_val.head()"
   ]
  },
  {
   "cell_type": "markdown",
   "metadata": {},
   "source": [
    "## Portflio Statistics"
   ]
  },
  {
   "cell_type": "code",
   "execution_count": 21,
   "metadata": {},
   "outputs": [],
   "source": [
    "portfolio_val['Daily Return'] = portfolio_val['Total Pos'].pct_change(1)"
   ]
  },
  {
   "cell_type": "code",
   "execution_count": 22,
   "metadata": {},
   "outputs": [
    {
     "data": {
      "text/html": [
       "<div>\n",
       "<style scoped>\n",
       "    .dataframe tbody tr th:only-of-type {\n",
       "        vertical-align: middle;\n",
       "    }\n",
       "\n",
       "    .dataframe tbody tr th {\n",
       "        vertical-align: top;\n",
       "    }\n",
       "\n",
       "    .dataframe thead th {\n",
       "        text-align: right;\n",
       "    }\n",
       "</style>\n",
       "<table border=\"1\" class=\"dataframe\">\n",
       "  <thead>\n",
       "    <tr style=\"text-align: right;\">\n",
       "      <th></th>\n",
       "      <th>AAPL Pos</th>\n",
       "      <th>CISCO Pos</th>\n",
       "      <th>IBM Pos</th>\n",
       "      <th>AMZN Pos</th>\n",
       "      <th>Total Pos</th>\n",
       "      <th>Daily Return</th>\n",
       "    </tr>\n",
       "    <tr>\n",
       "      <th>Date</th>\n",
       "      <th></th>\n",
       "      <th></th>\n",
       "      <th></th>\n",
       "      <th></th>\n",
       "      <th></th>\n",
       "      <th></th>\n",
       "    </tr>\n",
       "  </thead>\n",
       "  <tbody>\n",
       "    <tr>\n",
       "      <th>2012-01-03</th>\n",
       "      <td>300000.000000</td>\n",
       "      <td>200000.000000</td>\n",
       "      <td>400000.000000</td>\n",
       "      <td>100000.000000</td>\n",
       "      <td>1.000000e+06</td>\n",
       "      <td>NaN</td>\n",
       "    </tr>\n",
       "    <tr>\n",
       "      <th>2012-01-04</th>\n",
       "      <td>301612.236461</td>\n",
       "      <td>203864.734300</td>\n",
       "      <td>398368.223296</td>\n",
       "      <td>99150.980283</td>\n",
       "      <td>1.002996e+06</td>\n",
       "      <td>0.002996</td>\n",
       "    </tr>\n",
       "    <tr>\n",
       "      <th>2012-01-05</th>\n",
       "      <td>304960.727573</td>\n",
       "      <td>203113.258186</td>\n",
       "      <td>396478.797638</td>\n",
       "      <td>99206.836843</td>\n",
       "      <td>1.003760e+06</td>\n",
       "      <td>0.000761</td>\n",
       "    </tr>\n",
       "    <tr>\n",
       "      <th>2012-01-06</th>\n",
       "      <td>308148.724558</td>\n",
       "      <td>202361.782072</td>\n",
       "      <td>391926.999463</td>\n",
       "      <td>101999.664861</td>\n",
       "      <td>1.004437e+06</td>\n",
       "      <td>0.000675</td>\n",
       "    </tr>\n",
       "    <tr>\n",
       "      <th>2012-01-09</th>\n",
       "      <td>307659.946988</td>\n",
       "      <td>203650.026838</td>\n",
       "      <td>389887.278583</td>\n",
       "      <td>99737.474166</td>\n",
       "      <td>1.000935e+06</td>\n",
       "      <td>-0.003487</td>\n",
       "    </tr>\n",
       "  </tbody>\n",
       "</table>\n",
       "</div>"
      ],
      "text/plain": [
       "                 AAPL Pos      CISCO Pos        IBM Pos       AMZN Pos  \\\n",
       "Date                                                                     \n",
       "2012-01-03  300000.000000  200000.000000  400000.000000  100000.000000   \n",
       "2012-01-04  301612.236461  203864.734300  398368.223296   99150.980283   \n",
       "2012-01-05  304960.727573  203113.258186  396478.797638   99206.836843   \n",
       "2012-01-06  308148.724558  202361.782072  391926.999463  101999.664861   \n",
       "2012-01-09  307659.946988  203650.026838  389887.278583   99737.474166   \n",
       "\n",
       "               Total Pos  Daily Return  \n",
       "Date                                    \n",
       "2012-01-03  1.000000e+06           NaN  \n",
       "2012-01-04  1.002996e+06      0.002996  \n",
       "2012-01-05  1.003760e+06      0.000761  \n",
       "2012-01-06  1.004437e+06      0.000675  \n",
       "2012-01-09  1.000935e+06     -0.003487  "
      ]
     },
     "execution_count": 22,
     "metadata": {},
     "output_type": "execute_result"
    }
   ],
   "source": [
    "portfolio_val.head()"
   ]
  },
  {
   "cell_type": "code",
   "execution_count": 23,
   "metadata": {},
   "outputs": [
    {
     "data": {
      "text/plain": [
       "0.0005442330716215244"
      ]
     },
     "execution_count": 23,
     "metadata": {},
     "output_type": "execute_result"
    }
   ],
   "source": [
    "portfolio_val['Daily Return'].mean()"
   ]
  },
  {
   "cell_type": "code",
   "execution_count": 24,
   "metadata": {},
   "outputs": [
    {
     "data": {
      "text/plain": [
       "0.010568287769161718"
      ]
     },
     "execution_count": 24,
     "metadata": {},
     "output_type": "execute_result"
    }
   ],
   "source": [
    "portfolio_val['Daily Return'].std()"
   ]
  },
  {
   "cell_type": "code",
   "execution_count": 25,
   "metadata": {},
   "outputs": [
    {
     "data": {
      "text/plain": [
       "<matplotlib.axes._subplots.AxesSubplot at 0x12990a3d0>"
      ]
     },
     "execution_count": 25,
     "metadata": {},
     "output_type": "execute_result"
    },
    {
     "data": {
      "image/png": "[encoded data removed]",
      "text/plain": [
       "<Figure size 720x576 with 1 Axes>"
      ]
     },
     "metadata": {},
     "output_type": "display_data"
    }
   ],
   "source": [
    "portfolio_val['Daily Return'].plot(kind='hist', bins = 100, figsize = (10, 8))"
   ]
  },
  {
   "cell_type": "code",
   "execution_count": 26,
   "metadata": {},
   "outputs": [
    {
     "data": {
      "text/plain": [
       "<matplotlib.axes._subplots.AxesSubplot at 0x12c0b0590>"
      ]
     },
     "execution_count": 26,
     "metadata": {},
     "output_type": "execute_result"
    },
    {
     "data": {
      "image/png": "[encoded data removed]",
      "text/plain": [
       "<Figure size 720x576 with 1 Axes>"
      ]
     },
     "metadata": {},
     "output_type": "display_data"
    }
   ],
   "source": [
    "portfolio_val['Daily Return'].plot(kind='kde', figsize = (10, 8))"
   ]
  },
  {
   "cell_type": "code",
   "execution_count": 27,
   "metadata": {},
   "outputs": [],
   "source": [
    "cumulative_return = 100 * (portfolio_val['Total Pos'][-1]/portfolio_val['Total Pos'][0] - 1)"
   ]
  },
  {
   "cell_type": "code",
   "execution_count": 28,
   "metadata": {},
   "outputs": [
    {
     "data": {
      "text/plain": [
       "84.74285181665545"
      ]
     },
     "execution_count": 28,
     "metadata": {},
     "output_type": "execute_result"
    }
   ],
   "source": [
    "cumulative_return"
   ]
  },
  {
   "cell_type": "code",
   "execution_count": 29,
   "metadata": {},
   "outputs": [],
   "source": [
    "SR = portfolio_val['Daily Return'].mean() / portfolio_val['Daily Return'].std()"
   ]
  },
  {
   "cell_type": "code",
   "execution_count": 30,
   "metadata": {},
   "outputs": [
    {
     "data": {
      "text/plain": [
       "0.05149680662648092"
      ]
     },
     "execution_count": 30,
     "metadata": {},
     "output_type": "execute_result"
    }
   ],
   "source": [
    "SR"
   ]
  },
  {
   "cell_type": "code",
   "execution_count": 31,
   "metadata": {},
   "outputs": [],
   "source": [
    "ASR = (252 ** 0.5) * SR"
   ]
  },
  {
   "cell_type": "code",
   "execution_count": 32,
   "metadata": {},
   "outputs": [
    {
     "data": {
      "text/plain": [
       "0.8174864618859096"
      ]
     },
     "execution_count": 32,
     "metadata": {},
     "output_type": "execute_result"
    }
   ],
   "source": [
    "ASR"
   ]
  },
  {
   "cell_type": "markdown",
   "metadata": {},
   "source": [
    "### Is this sharpe ratio considered good?\n",
    "\n",
    "A sharpe ratio greater than one is considered acceptable to good by investors depending on your risk tolerance. \n",
    "\n",
    "A ratio higher than 2 is usually rated as very good; a ratio of 3 or higher is considered to be excellent (very rare cases). \n",
    "\n",
    "The basic purpose of the Sharpe ratio is to allow investors to analyze how much greater a return one is obtaining in relation to the level of additional risk taken to generate that return. "
   ]
  },
  {
   "cell_type": "markdown",
   "metadata": {},
   "source": [
    "## Portfolio Optimization\n",
    "Now that we have a nice metric to evaluate Portfolio Allocations against each other, how can we optimize the portoflio holding?\n",
    "\n",
    "We just guess and check a bunch of random allocations and see which one has the best Sharpe Ratio! Since we have powerful computer and numpy's random number function, the strategy works for us.\n",
    "\n",
    "Randomly guessing and checking is sometimes known as a Monte Carlo Simulation. We randomly assign a weight to each security in our portfolio, then calculate its mean daily return and std. dev. of daily return.\n",
    "\n",
    "This allows us to calculate the Sharpe Ratio for thousands of randomly selected allocations. We can then plot the allocations on chart showing return vs. volatility, colored by the Sharpe Ratio.\n",
    "\n",
    "<img src=\"EfficientFrontier.png\">\n",
    "\n",
    "We're going to end up creating the above chart where y axis is the return and x axis is the volatility, and the color bar is the third dimention of the sharpe ratio. Red dot indicates the highest Sharpe Ratio on this plot."
   ]
  },
  {
   "cell_type": "markdown",
   "metadata": {},
   "source": [
    "### Minimization\n",
    "\n",
    "However, guessing and checking is not very efficient, instead we can use math to figure out the optimal Sharpe Ratio for any given portfolio. This is known as an optimazation algorithm. To really understand optimization algorithm, we need to understand minimization.\n",
    "\n",
    "Example: What value of x will minimize y?\n",
    "- $y = x^2$  --> x = 0\n",
    "- $y = (2 - x) ^2$ --> x = 2\n",
    "\n",
    "This idea of using a minimizer will allow us to build an optimizer. For more complex equations, SciPy can do the heavy math for us!\n"
   ]
  },
  {
   "cell_type": "markdown",
   "metadata": {},
   "source": [
    "### Relationship between minimization and sharpe ratio\n",
    "We want to actually maximize the Sharpe Ratio, meaning we can create an optimizer that will attempt to minimize the inverse Sharpe Ratio!\n",
    "\n",
    "We will use SciPy's built-in optimization algorithms to calculate the optimal weight allocation for our portfolio (optimized by Sharpe Ratio)."
   ]
  },
  {
   "cell_type": "markdown",
   "metadata": {},
   "source": [
    "## Efficient Frontier\n",
    "<img src=\"EfficientFrontier_borded.png\">"
   ]
  },
  {
   "cell_type": "markdown",
   "metadata": {},
   "source": [
    "# Portfolio Optimization code along"
   ]
  },
  {
   "cell_type": "markdown",
   "metadata": {},
   "source": [
    "## Monte Carlo Simulation"
   ]
  },
  {
   "cell_type": "code",
   "execution_count": 33,
   "metadata": {},
   "outputs": [],
   "source": [
    "import numpy as np\n",
    "import pandas as pd\n",
    "import matplotlib.pyplot as plt\n",
    "%matplotlib inline"
   ]
  },
  {
   "cell_type": "code",
   "execution_count": 34,
   "metadata": {},
   "outputs": [
    {
     "data": {
      "text/html": [
       "<div>\n",
       "<style scoped>\n",
       "    .dataframe tbody tr th:only-of-type {\n",
       "        vertical-align: middle;\n",
       "    }\n",
       "\n",
       "    .dataframe tbody tr th {\n",
       "        vertical-align: top;\n",
       "    }\n",
       "\n",
       "    .dataframe thead th {\n",
       "        text-align: right;\n",
       "    }\n",
       "</style>\n",
       "<table border=\"1\" class=\"dataframe\">\n",
       "  <thead>\n",
       "    <tr style=\"text-align: right;\">\n",
       "      <th></th>\n",
       "      <th>Adj. Close</th>\n",
       "      <th>Normed return</th>\n",
       "      <th>Allocation</th>\n",
       "      <th>Position values</th>\n",
       "    </tr>\n",
       "    <tr>\n",
       "      <th>Date</th>\n",
       "      <th></th>\n",
       "      <th></th>\n",
       "      <th></th>\n",
       "      <th></th>\n",
       "    </tr>\n",
       "  </thead>\n",
       "  <tbody>\n",
       "    <tr>\n",
       "      <th>2012-01-03</th>\n",
       "      <td>157.578371</td>\n",
       "      <td>1.000000</td>\n",
       "      <td>0.400000</td>\n",
       "      <td>400000.000000</td>\n",
       "    </tr>\n",
       "    <tr>\n",
       "      <th>2012-01-04</th>\n",
       "      <td>156.935540</td>\n",
       "      <td>0.995921</td>\n",
       "      <td>0.398368</td>\n",
       "      <td>398368.223296</td>\n",
       "    </tr>\n",
       "    <tr>\n",
       "      <th>2012-01-05</th>\n",
       "      <td>156.191208</td>\n",
       "      <td>0.991197</td>\n",
       "      <td>0.396479</td>\n",
       "      <td>396478.797638</td>\n",
       "    </tr>\n",
       "    <tr>\n",
       "      <th>2012-01-06</th>\n",
       "      <td>154.398046</td>\n",
       "      <td>0.979817</td>\n",
       "      <td>0.391927</td>\n",
       "      <td>391926.999463</td>\n",
       "    </tr>\n",
       "    <tr>\n",
       "      <th>2012-01-09</th>\n",
       "      <td>153.594506</td>\n",
       "      <td>0.974718</td>\n",
       "      <td>0.389887</td>\n",
       "      <td>389887.278583</td>\n",
       "    </tr>\n",
       "  </tbody>\n",
       "</table>\n",
       "</div>"
      ],
      "text/plain": [
       "            Adj. Close  Normed return  Allocation  Position values\n",
       "Date                                                              \n",
       "2012-01-03  157.578371       1.000000    0.400000    400000.000000\n",
       "2012-01-04  156.935540       0.995921    0.398368    398368.223296\n",
       "2012-01-05  156.191208       0.991197    0.396479    396478.797638\n",
       "2012-01-06  154.398046       0.979817    0.391927    391926.999463\n",
       "2012-01-09  153.594506       0.974718    0.389887    389887.278583"
      ]
     },
     "execution_count": 34,
     "metadata": {},
     "output_type": "execute_result"
    }
   ],
   "source": [
    "ibm.head()"
   ]
  },
  {
   "cell_type": "code",
   "execution_count": 35,
   "metadata": {},
   "outputs": [],
   "source": [
    "stocks = pd.concat([aapl['Adj. Close'], cisco['Adj. Close'], ibm['Adj. Close'], amzn['Adj. Close']], axis = 1)"
   ]
  },
  {
   "cell_type": "code",
   "execution_count": 36,
   "metadata": {},
   "outputs": [
    {
     "data": {
      "text/html": [
       "<div>\n",
       "<style scoped>\n",
       "    .dataframe tbody tr th:only-of-type {\n",
       "        vertical-align: middle;\n",
       "    }\n",
       "\n",
       "    .dataframe tbody tr th {\n",
       "        vertical-align: top;\n",
       "    }\n",
       "\n",
       "    .dataframe thead th {\n",
       "        text-align: right;\n",
       "    }\n",
       "</style>\n",
       "<table border=\"1\" class=\"dataframe\">\n",
       "  <thead>\n",
       "    <tr style=\"text-align: right;\">\n",
       "      <th></th>\n",
       "      <th>aapl</th>\n",
       "      <th>cisco</th>\n",
       "      <th>ibm</th>\n",
       "      <th>amzn</th>\n",
       "    </tr>\n",
       "    <tr>\n",
       "      <th>Date</th>\n",
       "      <th></th>\n",
       "      <th></th>\n",
       "      <th></th>\n",
       "      <th></th>\n",
       "    </tr>\n",
       "  </thead>\n",
       "  <tbody>\n",
       "    <tr>\n",
       "      <th>2012-01-03</th>\n",
       "      <td>52.848787</td>\n",
       "      <td>15.617341</td>\n",
       "      <td>157.578371</td>\n",
       "      <td>179.03</td>\n",
       "    </tr>\n",
       "    <tr>\n",
       "      <th>2012-01-04</th>\n",
       "      <td>53.132802</td>\n",
       "      <td>15.919125</td>\n",
       "      <td>156.935540</td>\n",
       "      <td>177.51</td>\n",
       "    </tr>\n",
       "    <tr>\n",
       "      <th>2012-01-05</th>\n",
       "      <td>53.722681</td>\n",
       "      <td>15.860445</td>\n",
       "      <td>156.191208</td>\n",
       "      <td>177.61</td>\n",
       "    </tr>\n",
       "    <tr>\n",
       "      <th>2012-01-06</th>\n",
       "      <td>54.284287</td>\n",
       "      <td>15.801764</td>\n",
       "      <td>154.398046</td>\n",
       "      <td>182.61</td>\n",
       "    </tr>\n",
       "    <tr>\n",
       "      <th>2012-01-09</th>\n",
       "      <td>54.198183</td>\n",
       "      <td>15.902359</td>\n",
       "      <td>153.594506</td>\n",
       "      <td>178.56</td>\n",
       "    </tr>\n",
       "  </tbody>\n",
       "</table>\n",
       "</div>"
      ],
      "text/plain": [
       "                 aapl      cisco         ibm    amzn\n",
       "Date                                                \n",
       "2012-01-03  52.848787  15.617341  157.578371  179.03\n",
       "2012-01-04  53.132802  15.919125  156.935540  177.51\n",
       "2012-01-05  53.722681  15.860445  156.191208  177.61\n",
       "2012-01-06  54.284287  15.801764  154.398046  182.61\n",
       "2012-01-09  54.198183  15.902359  153.594506  178.56"
      ]
     },
     "execution_count": 36,
     "metadata": {},
     "output_type": "execute_result"
    }
   ],
   "source": [
    "stocks.columns = ['aapl', 'cisco', 'ibm', 'amzn']\n",
    "stocks.head()"
   ]
  },
  {
   "cell_type": "code",
   "execution_count": 37,
   "metadata": {},
   "outputs": [
    {
     "data": {
      "text/plain": [
       "aapl     0.000750\n",
       "cisco    0.000599\n",
       "ibm      0.000081\n",
       "amzn     0.001328\n",
       "dtype: float64"
      ]
     },
     "execution_count": 37,
     "metadata": {},
     "output_type": "execute_result"
    }
   ],
   "source": [
    "stocks.pct_change(1).mean()"
   ]
  },
  {
   "cell_type": "code",
   "execution_count": 38,
   "metadata": {},
   "outputs": [
    {
     "data": {
      "text/html": [
       "<div>\n",
       "<style scoped>\n",
       "    .dataframe tbody tr th:only-of-type {\n",
       "        vertical-align: middle;\n",
       "    }\n",
       "\n",
       "    .dataframe tbody tr th {\n",
       "        vertical-align: top;\n",
       "    }\n",
       "\n",
       "    .dataframe thead th {\n",
       "        text-align: right;\n",
       "    }\n",
       "</style>\n",
       "<table border=\"1\" class=\"dataframe\">\n",
       "  <thead>\n",
       "    <tr style=\"text-align: right;\">\n",
       "      <th></th>\n",
       "      <th>aapl</th>\n",
       "      <th>cisco</th>\n",
       "      <th>ibm</th>\n",
       "      <th>amzn</th>\n",
       "    </tr>\n",
       "  </thead>\n",
       "  <tbody>\n",
       "    <tr>\n",
       "      <th>aapl</th>\n",
       "      <td>1.000000</td>\n",
       "      <td>0.301990</td>\n",
       "      <td>0.297498</td>\n",
       "      <td>0.235487</td>\n",
       "    </tr>\n",
       "    <tr>\n",
       "      <th>cisco</th>\n",
       "      <td>0.301990</td>\n",
       "      <td>1.000000</td>\n",
       "      <td>0.424672</td>\n",
       "      <td>0.284470</td>\n",
       "    </tr>\n",
       "    <tr>\n",
       "      <th>ibm</th>\n",
       "      <td>0.297498</td>\n",
       "      <td>0.424672</td>\n",
       "      <td>1.000000</td>\n",
       "      <td>0.258492</td>\n",
       "    </tr>\n",
       "    <tr>\n",
       "      <th>amzn</th>\n",
       "      <td>0.235487</td>\n",
       "      <td>0.284470</td>\n",
       "      <td>0.258492</td>\n",
       "      <td>1.000000</td>\n",
       "    </tr>\n",
       "  </tbody>\n",
       "</table>\n",
       "</div>"
      ],
      "text/plain": [
       "           aapl     cisco       ibm      amzn\n",
       "aapl   1.000000  0.301990  0.297498  0.235487\n",
       "cisco  0.301990  1.000000  0.424672  0.284470\n",
       "ibm    0.297498  0.424672  1.000000  0.258492\n",
       "amzn   0.235487  0.284470  0.258492  1.000000"
      ]
     },
     "execution_count": 38,
     "metadata": {},
     "output_type": "execute_result"
    }
   ],
   "source": [
    "stocks.pct_change(1).corr()"
   ]
  },
  {
   "cell_type": "code",
   "execution_count": 41,
   "metadata": {},
   "outputs": [
    {
     "data": {
      "text/html": [
       "<div>\n",
       "<style scoped>\n",
       "    .dataframe tbody tr th:only-of-type {\n",
       "        vertical-align: middle;\n",
       "    }\n",
       "\n",
       "    .dataframe tbody tr th {\n",
       "        vertical-align: top;\n",
       "    }\n",
       "\n",
       "    .dataframe thead th {\n",
       "        text-align: right;\n",
       "    }\n",
       "</style>\n",
       "<table border=\"1\" class=\"dataframe\">\n",
       "  <thead>\n",
       "    <tr style=\"text-align: right;\">\n",
       "      <th></th>\n",
       "      <th>aapl</th>\n",
       "      <th>cisco</th>\n",
       "      <th>ibm</th>\n",
       "      <th>amzn</th>\n",
       "    </tr>\n",
       "    <tr>\n",
       "      <th>Date</th>\n",
       "      <th></th>\n",
       "      <th></th>\n",
       "      <th></th>\n",
       "      <th></th>\n",
       "    </tr>\n",
       "  </thead>\n",
       "  <tbody>\n",
       "    <tr>\n",
       "      <th>2012-01-03</th>\n",
       "      <td>NaN</td>\n",
       "      <td>NaN</td>\n",
       "      <td>NaN</td>\n",
       "      <td>NaN</td>\n",
       "    </tr>\n",
       "    <tr>\n",
       "      <th>2012-01-04</th>\n",
       "      <td>0.005374</td>\n",
       "      <td>0.019324</td>\n",
       "      <td>-0.004079</td>\n",
       "      <td>-0.008490</td>\n",
       "    </tr>\n",
       "    <tr>\n",
       "      <th>2012-01-05</th>\n",
       "      <td>0.011102</td>\n",
       "      <td>-0.003686</td>\n",
       "      <td>-0.004743</td>\n",
       "      <td>0.000563</td>\n",
       "    </tr>\n",
       "    <tr>\n",
       "      <th>2012-01-06</th>\n",
       "      <td>0.010454</td>\n",
       "      <td>-0.003700</td>\n",
       "      <td>-0.011481</td>\n",
       "      <td>0.028152</td>\n",
       "    </tr>\n",
       "    <tr>\n",
       "      <th>2012-01-09</th>\n",
       "      <td>-0.001586</td>\n",
       "      <td>0.006366</td>\n",
       "      <td>-0.005204</td>\n",
       "      <td>-0.022178</td>\n",
       "    </tr>\n",
       "  </tbody>\n",
       "</table>\n",
       "</div>"
      ],
      "text/plain": [
       "                aapl     cisco       ibm      amzn\n",
       "Date                                              \n",
       "2012-01-03       NaN       NaN       NaN       NaN\n",
       "2012-01-04  0.005374  0.019324 -0.004079 -0.008490\n",
       "2012-01-05  0.011102 -0.003686 -0.004743  0.000563\n",
       "2012-01-06  0.010454 -0.003700 -0.011481  0.028152\n",
       "2012-01-09 -0.001586  0.006366 -0.005204 -0.022178"
      ]
     },
     "execution_count": 41,
     "metadata": {},
     "output_type": "execute_result"
    }
   ],
   "source": [
    "stocks.pct_change(1).head()"
   ]
  },
  {
   "cell_type": "code",
   "execution_count": 42,
   "metadata": {},
   "outputs": [
    {
     "data": {
      "text/html": [
       "<div>\n",
       "<style scoped>\n",
       "    .dataframe tbody tr th:only-of-type {\n",
       "        vertical-align: middle;\n",
       "    }\n",
       "\n",
       "    .dataframe tbody tr th {\n",
       "        vertical-align: top;\n",
       "    }\n",
       "\n",
       "    .dataframe thead th {\n",
       "        text-align: right;\n",
       "    }\n",
       "</style>\n",
       "<table border=\"1\" class=\"dataframe\">\n",
       "  <thead>\n",
       "    <tr style=\"text-align: right;\">\n",
       "      <th></th>\n",
       "      <th>aapl</th>\n",
       "      <th>cisco</th>\n",
       "      <th>ibm</th>\n",
       "      <th>amzn</th>\n",
       "    </tr>\n",
       "    <tr>\n",
       "      <th>Date</th>\n",
       "      <th></th>\n",
       "      <th></th>\n",
       "      <th></th>\n",
       "      <th></th>\n",
       "    </tr>\n",
       "  </thead>\n",
       "  <tbody>\n",
       "    <tr>\n",
       "      <th>2012-01-03</th>\n",
       "      <td>NaN</td>\n",
       "      <td>NaN</td>\n",
       "      <td>NaN</td>\n",
       "      <td>NaN</td>\n",
       "    </tr>\n",
       "    <tr>\n",
       "      <th>2012-01-04</th>\n",
       "      <td>0.005360</td>\n",
       "      <td>0.019139</td>\n",
       "      <td>-0.004088</td>\n",
       "      <td>-0.008526</td>\n",
       "    </tr>\n",
       "    <tr>\n",
       "      <th>2012-01-05</th>\n",
       "      <td>0.011041</td>\n",
       "      <td>-0.003693</td>\n",
       "      <td>-0.004754</td>\n",
       "      <td>0.000563</td>\n",
       "    </tr>\n",
       "    <tr>\n",
       "      <th>2012-01-06</th>\n",
       "      <td>0.010400</td>\n",
       "      <td>-0.003707</td>\n",
       "      <td>-0.011547</td>\n",
       "      <td>0.027763</td>\n",
       "    </tr>\n",
       "    <tr>\n",
       "      <th>2012-01-09</th>\n",
       "      <td>-0.001587</td>\n",
       "      <td>0.006346</td>\n",
       "      <td>-0.005218</td>\n",
       "      <td>-0.022428</td>\n",
       "    </tr>\n",
       "  </tbody>\n",
       "</table>\n",
       "</div>"
      ],
      "text/plain": [
       "                aapl     cisco       ibm      amzn\n",
       "Date                                              \n",
       "2012-01-03       NaN       NaN       NaN       NaN\n",
       "2012-01-04  0.005360  0.019139 -0.004088 -0.008526\n",
       "2012-01-05  0.011041 -0.003693 -0.004754  0.000563\n",
       "2012-01-06  0.010400 -0.003707 -0.011547  0.027763\n",
       "2012-01-09 -0.001587  0.006346 -0.005218 -0.022428"
      ]
     },
     "execution_count": 42,
     "metadata": {},
     "output_type": "execute_result"
    }
   ],
   "source": [
    "# log returns are easy to work with\n",
    "log_ret = np.log(stocks/stocks.shift(1))\n",
    "log_ret.head()"
   ]
  },
  {
   "cell_type": "code",
   "execution_count": 43,
   "metadata": {},
   "outputs": [
    {
     "data": {
      "text/plain": [
       "<function matplotlib.pyplot.tight_layout>"
      ]
     },
     "execution_count": 43,
     "metadata": {},
     "output_type": "execute_result"
    },
    {
     "data": {
      "image/png": "[encoded data removed]",
      "text/plain": [
       "<Figure size 864x576 with 4 Axes>"
      ]
     },
     "metadata": {},
     "output_type": "display_data"
    }
   ],
   "source": [
    "log_ret.hist(bins=100, figsize = (12, 8))\n",
    "plt.tight_layout"
   ]
  },
  {
   "cell_type": "code",
   "execution_count": 44,
   "metadata": {},
   "outputs": [
    {
     "data": {
      "text/plain": [
       "aapl     0.000614\n",
       "cisco    0.000497\n",
       "ibm      0.000011\n",
       "amzn     0.001139\n",
       "dtype: float64"
      ]
     },
     "execution_count": 44,
     "metadata": {},
     "output_type": "execute_result"
    }
   ],
   "source": [
    "log_ret.mean()"
   ]
  },
  {
   "cell_type": "code",
   "execution_count": 67,
   "metadata": {},
   "outputs": [
    {
     "data": {
      "text/html": [
       "<div>\n",
       "<style scoped>\n",
       "    .dataframe tbody tr th:only-of-type {\n",
       "        vertical-align: middle;\n",
       "    }\n",
       "\n",
       "    .dataframe tbody tr th {\n",
       "        vertical-align: top;\n",
       "    }\n",
       "\n",
       "    .dataframe thead th {\n",
       "        text-align: right;\n",
       "    }\n",
       "</style>\n",
       "<table border=\"1\" class=\"dataframe\">\n",
       "  <thead>\n",
       "    <tr style=\"text-align: right;\">\n",
       "      <th></th>\n",
       "      <th>aapl</th>\n",
       "      <th>cisco</th>\n",
       "      <th>ibm</th>\n",
       "      <th>amzn</th>\n",
       "    </tr>\n",
       "  </thead>\n",
       "  <tbody>\n",
       "    <tr>\n",
       "      <th>aapl</th>\n",
       "      <td>0.068326</td>\n",
       "      <td>0.017854</td>\n",
       "      <td>0.014464</td>\n",
       "      <td>0.018986</td>\n",
       "    </tr>\n",
       "    <tr>\n",
       "      <th>cisco</th>\n",
       "      <td>0.017854</td>\n",
       "      <td>0.051381</td>\n",
       "      <td>0.018029</td>\n",
       "      <td>0.019956</td>\n",
       "    </tr>\n",
       "    <tr>\n",
       "      <th>ibm</th>\n",
       "      <td>0.014464</td>\n",
       "      <td>0.018029</td>\n",
       "      <td>0.035203</td>\n",
       "      <td>0.014939</td>\n",
       "    </tr>\n",
       "    <tr>\n",
       "      <th>amzn</th>\n",
       "      <td>0.018986</td>\n",
       "      <td>0.019956</td>\n",
       "      <td>0.014939</td>\n",
       "      <td>0.094470</td>\n",
       "    </tr>\n",
       "  </tbody>\n",
       "</table>\n",
       "</div>"
      ],
      "text/plain": [
       "           aapl     cisco       ibm      amzn\n",
       "aapl   0.068326  0.017854  0.014464  0.018986\n",
       "cisco  0.017854  0.051381  0.018029  0.019956\n",
       "ibm    0.014464  0.018029  0.035203  0.014939\n",
       "amzn   0.018986  0.019956  0.014939  0.094470"
      ]
     },
     "execution_count": 67,
     "metadata": {},
     "output_type": "execute_result"
    }
   ],
   "source": [
    "log_ret.cov() * 252  \n",
    "# 252 business days"
   ]
  },
  {
   "cell_type": "code",
   "execution_count": 68,
   "metadata": {},
   "outputs": [],
   "source": [
    "import time"
   ]
  },
  {
   "cell_type": "code",
   "execution_count": 70,
   "metadata": {},
   "outputs": [
    {
     "name": "stdout",
     "output_type": "stream",
     "text": [
      "Iterated 10000 times, took 12.1389260292 seconds\n"
     ]
    }
   ],
   "source": [
    "#np.random.seed(101)\n",
    "start_time = time.time()\n",
    "num_ports = 10000\n",
    "all_weights = np.zeros((num_ports, len(stocks.columns)))\n",
    "ret_arr = np.zeros(num_ports)\n",
    "vol_arr = np.zeros(num_ports)\n",
    "sharpe_arr = np.zeros(num_ports)\n",
    "\n",
    "for ind in range(num_ports):\n",
    "    # Weights\n",
    "    weights = np.array(np.random.random(4))\n",
    "    weights = weights / np.sum(weights)\n",
    "\n",
    "    # Save the weights\n",
    "    all_weights[ind, :] = weights\n",
    "    \n",
    "    # Expected return\n",
    "    exp_ret = np.sum(log_ret.mean() * weights *  252) \n",
    "    ret_arr[ind] = exp_ret\n",
    "\n",
    "    # Expected volatility\n",
    "    exp_vol = np.sqrt(np.dot(weights.T, np.dot(log_ret.cov() * 252, weights)))\n",
    "    vol_arr[ind] = exp_vol\n",
    "    \n",
    "    #Sharpe Ratio\n",
    "    SR = exp_ret / exp_vol\n",
    "    sharpe_arr[ind] = SR\n",
    "\n",
    "print(\"Iterated {x} times, took {y} seconds\".format(x = num_ports, y = (time.time() - start_time)))"
   ]
  },
  {
   "cell_type": "code",
   "execution_count": 81,
   "metadata": {},
   "outputs": [
    {
     "data": {
      "text/plain": [
       "1.029210056484699"
      ]
     },
     "execution_count": 81,
     "metadata": {},
     "output_type": "execute_result"
    }
   ],
   "source": [
    "sharpe_arr.max()"
   ]
  },
  {
   "cell_type": "code",
   "execution_count": 82,
   "metadata": {},
   "outputs": [
    {
     "data": {
      "text/plain": [
       "852"
      ]
     },
     "execution_count": 82,
     "metadata": {},
     "output_type": "execute_result"
    }
   ],
   "source": [
    "sharpe_arr.argmax()"
   ]
  },
  {
   "cell_type": "code",
   "execution_count": 83,
   "metadata": {},
   "outputs": [],
   "source": [
    "max_sr_ret = ret_arr[sharpe_arr.argmax()]\n",
    "max_sr_vol = vol_arr[sharpe_arr.argmax()]"
   ]
  },
  {
   "cell_type": "code",
   "execution_count": 84,
   "metadata": {},
   "outputs": [
    {
     "data": {
      "text/plain": [
       "array([0.26455872, 0.19092709, 0.00405137, 0.54046281])"
      ]
     },
     "execution_count": 84,
     "metadata": {},
     "output_type": "execute_result"
    }
   ],
   "source": [
    "all_weights[sharpe_arr.argmax(), :]"
   ]
  },
  {
   "cell_type": "code",
   "execution_count": 89,
   "metadata": {},
   "outputs": [
    {
     "data": {
      "text/plain": [
       "<matplotlib.collections.PathCollection at 0x1a33388c90>"
      ]
     },
     "execution_count": 89,
     "metadata": {},
     "output_type": "execute_result"
    },
    {
     "data": {
      "image/png": "[encoded data removed]",
      "text/plain": [
       "<Figure size 864x576 with 2 Axes>"
      ]
     },
     "metadata": {},
     "output_type": "display_data"
    }
   ],
   "source": [
    "plt.figure(figsize = (12, 8))\n",
    "plt.scatter(vol_arr, ret_arr, c = sharpe_arr, cmap='plasma')\n",
    "plt.colorbar(label='Sharpe Ratio')\n",
    "plt.xlabel('Volatility')\n",
    "plt.ylabel('Return')\n",
    "\n",
    "plt.scatter(max_sr_vol, max_sr_ret, c = 'red', s = 50, edgecolors='black')"
   ]
  },
  {
   "cell_type": "markdown",
   "metadata": {},
   "source": [
    "## Mathmatical optimization\n",
    "For more details about minimize, check the SciPy documentation."
   ]
  },
  {
   "cell_type": "code",
   "execution_count": 109,
   "metadata": {},
   "outputs": [],
   "source": [
    "def get_ret_vol_sr(weights): \n",
    "    weights = np.array(weights)\n",
    "    ret = np.sum(log_ret.mean() * weights) * 252\n",
    "    vol = np.sqrt(np.dot(weights.T, np.dot(log_ret.cov() * 252, weights)))\n",
    "    sr = ret / vol\n",
    "    return np.array([ret, vol, sr])"
   ]
  },
  {
   "cell_type": "code",
   "execution_count": 110,
   "metadata": {},
   "outputs": [],
   "source": [
    "from scipy.optimize import minimize"
   ]
  },
  {
   "cell_type": "code",
   "execution_count": 111,
   "metadata": {},
   "outputs": [],
   "source": [
    "def neg_sharpe(weights): \n",
    "    return get_ret_vol_sr(weights)[2] * -1"
   ]
  },
  {
   "cell_type": "code",
   "execution_count": 112,
   "metadata": {},
   "outputs": [],
   "source": [
    "def check_sum(weights):\n",
    "    # return 0 if the sum of the weights is 1\n",
    "    return np.sum(weights) - 1"
   ]
  },
  {
   "cell_type": "code",
   "execution_count": 113,
   "metadata": {},
   "outputs": [],
   "source": [
    "cons = ({'type': 'eq', 'fun': check_sum})"
   ]
  },
  {
   "cell_type": "code",
   "execution_count": 114,
   "metadata": {},
   "outputs": [],
   "source": [
    "bounds = ((0, 1), (0, 1), (0, 1), (0, 1))"
   ]
  },
  {
   "cell_type": "code",
   "execution_count": 115,
   "metadata": {},
   "outputs": [],
   "source": [
    "init_guess = [0.25, 0.25, 0.25, 0.25]"
   ]
  },
  {
   "cell_type": "code",
   "execution_count": 116,
   "metadata": {},
   "outputs": [],
   "source": [
    "opt_results = minimize(neg_sharpe, init_guess, method='SLSQP', bounds=bounds, constraints=cons)"
   ]
  },
  {
   "cell_type": "code",
   "execution_count": 117,
   "metadata": {},
   "outputs": [
    {
     "data": {
      "text/plain": [
       "     fun: -1.0307168703346878\n",
       "     jac: array([ 5.64306974e-05,  4.18275595e-05,  3.39921713e-01, -4.45246696e-05])\n",
       " message: 'Optimization terminated successfully.'\n",
       "    nfev: 42\n",
       "     nit: 7\n",
       "    njev: 7\n",
       "  status: 0\n",
       " success: True\n",
       "       x: array([0.26628978, 0.20418982, 0.        , 0.5295204 ])"
      ]
     },
     "execution_count": 117,
     "metadata": {},
     "output_type": "execute_result"
    }
   ],
   "source": [
    "opt_results"
   ]
  },
  {
   "cell_type": "code",
   "execution_count": 118,
   "metadata": {},
   "outputs": [
    {
     "data": {
      "text/plain": [
       "array([0.26628978, 0.20418982, 0.        , 0.5295204 ])"
      ]
     },
     "execution_count": 118,
     "metadata": {},
     "output_type": "execute_result"
    }
   ],
   "source": [
    "opt_results.x"
   ]
  },
  {
   "cell_type": "code",
   "execution_count": 119,
   "metadata": {},
   "outputs": [
    {
     "data": {
      "text/plain": [
       "array([0.21885915, 0.21233683, 1.03071687])"
      ]
     },
     "execution_count": 119,
     "metadata": {},
     "output_type": "execute_result"
    }
   ],
   "source": [
    "get_ret_vol_sr(opt_results.x)"
   ]
  },
  {
   "cell_type": "code",
   "execution_count": 120,
   "metadata": {},
   "outputs": [],
   "source": [
    "frontier_y = np.linspace(0, 0.3, 100)"
   ]
  },
  {
   "cell_type": "code",
   "execution_count": 121,
   "metadata": {},
   "outputs": [],
   "source": [
    "def minimize_volatility(weights):\n",
    "    return get_ret_vol_sr(weights)[1]"
   ]
  },
  {
   "cell_type": "code",
   "execution_count": 123,
   "metadata": {},
   "outputs": [],
   "source": [
    "frontier_volatility = []\n",
    "for possible_return in frontier_y:\n",
    "    cons = ({'type':'eq', 'fun': check_sum},\n",
    "           {'type': 'eq', 'fun': lambda w: get_ret_vol_sr(w)[0] - possible_return})\n",
    "    \n",
    "    result = minimize(minimize_volatility, init_guess, method='SLSQP', bounds = bounds, constraints=cons)\n",
    "    frontier_volatility.append(result['fun'])"
   ]
  },
  {
   "cell_type": "code",
   "execution_count": 124,
   "metadata": {},
   "outputs": [
    {
     "data": {
      "text/plain": [
       "[<matplotlib.lines.Line2D at 0x1a338b9690>]"
      ]
     },
     "execution_count": 124,
     "metadata": {},
     "output_type": "execute_result"
    },
    {
     "data": {
      "image/png": "[encoded data removed]",
      "text/plain": [
       "<Figure size 864x576 with 2 Axes>"
      ]
     },
     "metadata": {},
     "output_type": "display_data"
    }
   ],
   "source": [
    "plt.figure(figsize = (12, 8))\n",
    "plt.scatter(vol_arr, ret_arr, c = sharpe_arr, cmap='plasma')\n",
    "plt.colorbar(label='Sharpe Ratio')\n",
    "plt.xlabel('Volatility')\n",
    "plt.ylabel('Return')\n",
    "\n",
    "plt.plot(frontier_volatility, frontier_y, 'g--', linewidth=3)"
   ]
  },
  {
   "cell_type": "markdown",
   "metadata": {},
   "source": [
    "# Key Financial Topics\n",
    "- Types of funds\n",
    "- Order Books\n",
    "- Latency Arbitrage (HFT)\n",
    "- Short Selling"
   ]
  },
  {
   "cell_type": "markdown",
   "metadata": {},
   "source": [
    "## Types of funds\n",
    "There are 3 major fund types:\n",
    "- ETF - Exchange Traded Funds\n",
    "- Mutual Funds\n",
    "- Hedge Funds\n",
    "\n",
    "These funds vary by fees, transparency, regulation, and more."
   ]
  },
  {
   "cell_type": "markdown",
   "metadata": {},
   "source": [
    "### ETF\n",
    "ETFs are exchange traded funds that are constituted of a basket of funds, bonds, commodities, etc...\n",
    "Their holdings are completely public and transparent and individuals can buy and trade the marketable security.\n",
    "\n",
    "Typically, people invest in ETFs are more interested in a diversified portfolio and want to keep their investment in an ETF for a longer period of time.\n",
    "\n",
    "One of the most common ETFs is the Spider (SPY) which tracks the S&P500"
   ]
  },
  {
   "cell_type": "markdown",
   "metadata": {},
   "source": [
    "### Mutual Fund\n",
    "A mutual fund is an investment vehicle made up of a pool of funds collected from many investors for the purpose of investing in securities such as stocks, bonds, money market instruments and similar assets.\n",
    "\n",
    "Mutual funds are operated by money managers, who invest the fund's capital and attempt to produce capital gains and income for the fund's investors.\n",
    "\n",
    "A mutual fund's portfolio is structured and maintained to match the investment objectives stated in its prospectus.\n",
    "\n",
    "Mutual funds disclose their holdings typically once a quarter, although this can vary by fund."
   ]
  },
  {
   "cell_type": "markdown",
   "metadata": {},
   "source": [
    "### Hedge Fund\n",
    "Hedge funds are alternative investments using pooled funds that employ numerous different strategies to earn active return, or **alpha**, for their investors.\n",
    "\n",
    "Hedge funds may be aggressively managed or make use of derivatives and leverage in both domestic and international markets with the goal of generating high returns (either in an absolute sense or over a specified market benchmark).\n",
    "\n",
    "It is important to note that hedge funds are generally only accessible to accredited investors as they require less SEC regulations that other funds.\n",
    "\n",
    "One aspect that has set the hedge fund industry apart is the fact that hedge funds face less regulation than mutual funds and other investment vehicles. \n",
    "\n",
    "Much of what the course does mimics the way a hedge fund would operate."
   ]
  },
  {
   "cell_type": "markdown",
   "metadata": {},
   "source": [
    "## Fees associated with these funds\n",
    "- ETF funds\n",
    "    - Expense Ratio: 0.01% - 1%\n",
    "- Mutual funds\n",
    "    - Expense Ratio: 0.5% - 3%\n",
    "- Hedge funds\n",
    "    - Expense Ratio: 2% of Fund, 20% of profits"
   ]
  },
  {
   "cell_type": "markdown",
   "metadata": {},
   "source": [
    "### Liquidity of these funds\n",
    "- EFT\n",
    "    - Buy/Sell just like a stock\n",
    "- Mutual Funds\n",
    "    - Buy/Sell at end of day through broker\n",
    "- Hedge Funds\n",
    "    - Depends on agreement"
   ]
  },
  {
   "cell_type": "markdown",
   "metadata": {},
   "source": [
    "# Order Books\n",
    "Making an order includes the following:\n",
    "- Buy or sell\n",
    "- Symbol\n",
    "- Number of Shares\n",
    "- Limit or Market\n",
    "    - Limit is associated with price, which is the price limit you want to buy or sell\n",
    "    - Market order - buy or sell at whatever the current market will accept\n",
    "    - Examples:\n",
    "        - BUY, AAPL, 200, MARKET\n",
    "        - SELL, TSLA, 400, MARKET\n",
    "        - BUY, AMD, 2000, LIMIT, 13.95\n",
    "        - SELL, NVDA, 150, LIMIT, 160.99\n",
    "- Price (Only needed for a Limit order)\n",
    "\n",
    "Once you've sent an order (usually to your broker), it goes to an exchange (for a larger order it can go to multiple exchanges, but more on that later)\n",
    "\n",
    "Once an exchange receives your order, it goes into an order book."
   ]
  },
  {
   "cell_type": "markdown",
   "metadata": {},
   "source": [
    "## Build out an order book\n",
    "<img src=\"SimpleOrderBooks.png\">\n",
    "\n",
    "For a very popular stock there's hundreds of thousands of orders coming in all the time, so this would happen very very quickly.\n",
    "\n",
    "[Real Order Book from NASDAQ](https://data.nasdaq.com/BookViewer.aspx)"
   ]
  },
  {
   "cell_type": "markdown",
   "metadata": {},
   "source": [
    "## How does an order actually get to the exchange?\n",
    "Let's walk through the steps. Also explain how certain HFT firms can attempt Latency Arbitrage!!\n",
    "\n",
    "<img src=\"OrderFlow.png\">\n",
    "You initiate an order, then you connect to your broker through an app or website, then your broker send the order to the exchange and log in their order book to match an order, then get your money/stock back to your broker. And broker take some fee for doing that whole process for you.\n",
    "\n",
    "Another case which more realistic is the broker will match your order and other clients' order within the boundary of broker without actually reach in the exchange. By law at least in the U.S., the broker must provide the same price you could have gotten on the exchange. So whatever the best prices in the exchange, the broker must have provided that to you if they do the interaction of the broker."
   ]
  },
  {
   "cell_type": "markdown",
   "metadata": {},
   "source": [
    "## Dark Pool\n",
    "<img src=\"DarkPool.png\" >\n",
    "Imagine that you send a buy order for particular stock to your broker and another person is selling the same stock from different broker. This could end up that both these orders go to a dark pool first and never actually reached the exchanges. \n",
    "\n",
    "So a dark pool pays brokers to see order before they hit the exchange. It's essentially just a private exchange or forum for trading securities, though it is a really a ominous souding term. However, unlike exchanges, they are not really accessible to the public, they are not transparent.\n",
    "\n",
    "Because of their lack of transparency, there is some potential conflicts of interest by their owners and there can even be some predatory trading practices using HFT. But keep in mind that dark pools have actually been around since the 1980s. One of the main purposes they serve is if you're a large institutions such as a bank and you want to sell a million shares of a particular stock or some really large share number of shares that's going to cause a big jump or movement, you don't really want to do that at the exchange. Otherwise people get wind of it and they will either jack up their price when the bank are selling the stock because it wants to buy a million of them or the price will plummet because the bank is selling a bunch of stock it is offloading it all. What the dark pool can do becuase of its lack of transparency, to the exchanges, it is the entire interaction going to happen within that dark pool, so you end up affecting the stock price a whole lot.\n",
    "\n",
    "In 2014, about 40% of all U.S. stock trades didn't actually ever reach an exchange and about 15% of those trades actually occurred in a dark pool."
   ]
  },
  {
   "cell_type": "markdown",
   "metadata": {},
   "source": [
    "## HFT - High Frequency Tranding - brief introduction\n",
    "HFT firms take advantage of latency differences due to geographical distances. Tthese times are on the order of microseconds.\n",
    "\n",
    "Discussion about HFTs were popularized by Michael Lewis' book \"Flash Boys\".\n",
    "\n",
    "It doesn't really affect people that are operating on the scale we are if you're just selling a couple of thousand dollars or even a couple of thousand shares. That's not enough for HFT that is going to affect you. It will affect a very large institution or very large orders. If you are a large bank or an institution and you're putting out an order that's large enough that actually needs multiple exchanges to fulfill the order.\n",
    "\n",
    "<img src=\"HFT.png\" >\n",
    "\n",
    "HFT builds \"co-located\" servers. Whenever HFT realize this huge order coming in, they will trade in other exchange first due to their technology such as microwave towers, fiber optic cable, low latency trading system, etc. This is achievable since HFT has a speed advantage over the bank. For example, what they can end doing is while it takes a bank 2 ms to reach the NYSE, NFT actually beat you to NYSE and takes 0.467 ms (476 microseconds).\n",
    "\n",
    "So the whole process is HFT realize a bank is making a large order and HFT beat the bank to the other exchanges quickly buy up and raise the price before the large order coming in. Because HFT knows the order is coming in, they are virtually guaranteed to make money here. By the time large order reaches the other exchange, the price has jumped up a tiny bit.\n",
    "\n",
    "NOTE: This is a simplified overview. HFT in general is not really relevant for ordinary scale or approach to trade."
   ]
  },
  {
   "cell_type": "code",
   "execution_count": null,
   "metadata": {},
   "outputs": [],
   "source": []
  }
 ],
 "metadata": {
  "kernelspec": {
   "display_name": "Python [default]",
   "language": "python",
   "name": "python2"
  },
  "language_info": {
   "codemirror_mode": {
    "name": "ipython",
    "version": 2
   },
   "file_extension": ".py",
   "mimetype": "text/x-python",
   "name": "python",
   "nbconvert_exporter": "python",
   "pygments_lexer": "ipython2",
   "version": "2.7.15"
  }
 },
 "nbformat": 4,
 "nbformat_minor": 2
}
